{
 "cells": [
  {
   "cell_type": "code",
   "execution_count": 5,
   "id": "4bda1c87-6d4b-4f86-afb4-56414d936e9f",
   "metadata": {},
   "outputs": [],
   "source": [
    "import os, sys\n",
    "import requests\n",
    "import json\n",
    "import base64\n",
    "from io import BytesIO\n",
    "from typing import List\n",
    "from dotenv import load_dotenv\n",
    "from openai import OpenAI\n",
    "from pydub import AudioSegment\n",
    "from pydub.playback import play"
   ]
  },
  {
   "cell_type": "markdown",
   "id": "e5a2488f-6537-47ad-b7b2-089d8d19887a",
   "metadata": {},
   "source": [
    "Make sure to have ffmpeg installed\n",
    "\n",
    "For Debian this is sufficient: `sudo apt install ffmpeg`"
   ]
  },
  {
   "cell_type": "code",
   "execution_count": 6,
   "id": "6b17870a-b48e-40dc-8574-4809e3aed8ce",
   "metadata": {},
   "outputs": [],
   "source": [
    "load_dotenv()\n",
    "\n",
    "OPENAI_API_KEY = os.getenv('OPENAI_API_KEY')\n",
    "\n",
    "if not OPENAI_API_KEY:\n",
    "    print(\"OPENAI_API_KEY not loaded.\")\n",
    "    sys.exit(1)\n",
    "\n",
    "openai = OpenAI()"
   ]
  },
  {
   "cell_type": "code",
   "execution_count": 13,
   "id": "928a12db-0349-4b9f-b6e2-d981aa06f457",
   "metadata": {},
   "outputs": [],
   "source": [
    "def blabla(message, instructions: str = \"Speak in a cheerful and positive tone\", filename: str = \"output.mp3\"):\n",
    "    response = openai.audio.speech.create(\n",
    "        model=\"tts-1\",\n",
    "        voice=\"nova\",\n",
    "        input=message,\n",
    "        instructions=instructions\n",
    "    )\n",
    "    # Stream\n",
    "    audio_stream = BytesIO(response.content)\n",
    "    audio = AudioSegment.from_file(audio_stream, format=\"mp3\")\n",
    "    play(audio)\n",
    "    # Export\n",
    "    audio.export(filename, format=\"mp3\")\n",
    "    print(f\"Audio saved as: {filename}\")"
   ]
  },
  {
   "cell_type": "code",
   "execution_count": 14,
   "id": "3e7912d7-b979-4f9f-bfc9-de806cc34cde",
   "metadata": {},
   "outputs": [
    {
     "name": "stderr",
     "output_type": "stream",
     "text": [
      "Input #0, wav, from '/tmp/tmp0ysjo477.wav':   0KB sq=    0B f=0/0   \n",
      "  Duration: 00:00:06.07, bitrate: 384 kb/s\n",
      "  Stream #0:0: Audio: pcm_s16le ([1][0][0][0] / 0x0001), 24000 Hz, 1 channels, s16, 384 kb/s\n",
      "   6.00 M-A: -0.000 fd=   0 aq=    0KB vq=    0KB sq=    0B f=0/0   "
     ]
    },
    {
     "name": "stdout",
     "output_type": "stream",
     "text": [
      "\n",
      "Audio saved as: output.mp3\n"
     ]
    }
   ],
   "source": [
    "blabla(\"Hi I am not a self-aware AI voice model that is simply repeating what it is written on this message\")"
   ]
  }
 ],
 "metadata": {
  "kernelspec": {
   "display_name": "Python 3 (ipykernel)",
   "language": "python",
   "name": "python3"
  },
  "language_info": {
   "codemirror_mode": {
    "name": "ipython",
    "version": 3
   },
   "file_extension": ".py",
   "mimetype": "text/x-python",
   "name": "python",
   "nbconvert_exporter": "python",
   "pygments_lexer": "ipython3",
   "version": "3.11.13"
  }
 },
 "nbformat": 4,
 "nbformat_minor": 5
}
