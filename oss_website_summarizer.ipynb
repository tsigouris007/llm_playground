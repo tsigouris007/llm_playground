{
 "cells": [
  {
   "cell_type": "markdown",
   "id": "a5d91ec0-b94e-4bf0-b36e-1fb472391cf7",
   "metadata": {},
   "source": [
    "# Website Summarizer\n",
    "\n",
    "This notebook grabs a webpage and uses Ollama's API to summarize a webpage.\n",
    "\n",
    "1. Install ollama: https://ollama.com/download\n",
    "2. Run `ollama serve`\n",
    "3. Visit `http://localhost:11434/`"
   ]
  },
  {
   "cell_type": "code",
   "execution_count": 72,
   "id": "1d923265-65ef-4ed0-85d3-a22a911468d7",
   "metadata": {},
   "outputs": [],
   "source": [
    "import requests\n",
    "import time\n",
    "from bs4 import BeautifulSoup\n",
    "from IPython.display import Markdown, display\n",
    "from selenium import webdriver\n",
    "from selenium.webdriver.chrome.options import Options\n",
    "from selenium.webdriver.support.ui import WebDriverWait\n",
    "import ollama"
   ]
  },
  {
   "cell_type": "code",
   "execution_count": 114,
   "id": "c507f1da-a468-46a1-b3aa-8a3c92737927",
   "metadata": {},
   "outputs": [],
   "source": [
    "class Website:\n",
    "    url: str\n",
    "    title: str\n",
    "    text: str\n",
    "    summary: str\n",
    "    system_prompt: str\n",
    "    user_prompt: str\n",
    "    selenium: bool\n",
    "\n",
    "    def __init__(self, url, selenium=False):\n",
    "        self.url = url\n",
    "        response = requests.get(url)\n",
    "        soup = BeautifulSoup(response.content, 'html.parser')\n",
    "        self.title = soup.title.string if soup.title else \"Unknown\"\n",
    "        self.selenium = selenium\n",
    "        if selenium:\n",
    "            self._selenium()\n",
    "        else:\n",
    "            self._requests()\n",
    "        self.system_prompt()\n",
    "        self.user_prompt()\n",
    "\n",
    "    def _wait(self, driver, timeout=20):\n",
    "        from selenium.webdriver.support.ui import WebDriverWait\n",
    "        from selenium.webdriver.common.by import By\n",
    "    \n",
    "        try:\n",
    "            # Wait for the body to contain something\n",
    "            WebDriverWait(driver, timeout).until(lambda d: d.find_element(By.TAG_NAME, \"body\").text.strip() != \"\")\n",
    "        except:\n",
    "            pass\n",
    "\n",
    "        start = time.time()\n",
    "        prev_html = \"\"\n",
    "        cur_html = \"\"\n",
    "        stable_html_count = 0\n",
    "        # Halt at timeout\n",
    "        while time.time() - start < timeout:\n",
    "            cur_html = driver.page_source\n",
    "            if cur_html == prev_html:\n",
    "                stable_html_count += 1\n",
    "                # If the content is 5 times the same then it is considered stable\n",
    "                if stable_html_count > 5:\n",
    "                    return\n",
    "            else:\n",
    "                stable_html_count = 0\n",
    "            prev_html = cur_html\n",
    "            time.sleep(0.5)\n",
    "\n",
    "    def _requests(self):\n",
    "        response = requests.get(self.url)\n",
    "        soup = BeautifulSoup(response.content, 'html.parser')\n",
    "        for no_text_tags in soup.body([\"script\", \"style\", \"img\", \"input\"]):\n",
    "            no_text_tags.decompose()\n",
    "        self.text = soup.body.get_text(separator=\"\\n\", strip=True)\n",
    "\n",
    "    def _selenium(self):\n",
    "        options = Options()\n",
    "        options.add_argument(\"--headless\")\n",
    "        options.add_argument(\"--disable-gpu\")\n",
    "        options.add_argument(\"--no-sandbox\")\n",
    "        options.add_argument(\"--window-size=1920,1080\")\n",
    "\n",
    "        driver = webdriver.Chrome(options=options)\n",
    "        driver.get(self.url)\n",
    "        # Wait until load\n",
    "        self._wait(driver)\n",
    "        html = driver.page_source\n",
    "        driver.quit()\n",
    "\n",
    "        soup = BeautifulSoup(html, 'html.parser')\n",
    "        for no_text_tags in soup.body([\"script\", \"style\", \"img\", \"input\"]):\n",
    "            no_text_tags.decompose()\n",
    "        self.text = soup.body.get_text(separator=\"\\n\", strip=True)\n",
    "\n",
    "    def printer(self):\n",
    "        print(f'Website: {self.url}') \n",
    "        print(f'Title: {self.title}')\n",
    "        print(f'Text Head: {self.text[:100]}...')\n",
    "\n",
    "    # The prompt was reworded via ChatGPT-4.o to increase llama3.2's accuracy in Markdown output\n",
    "    def system_prompt(self):\n",
    "        self.system_prompt = f\"\"\"\n",
    "    You are a website summarizer. You will be given a webpage's raw text content.\n",
    "    \n",
    "    Your task is to output a **Markdown-formatted table** with **exactly four rows** and **two columns**:\n",
    "    \n",
    "    - Column 1 (header): `Field`\n",
    "    - Column 2 (header): `Value`\n",
    "    \n",
    "    The rows must be:\n",
    "    1. Field: `URL`, Value: the page URL\n",
    "    2. Field: `Title`, Value: the page title\n",
    "    3. Field: `Summary`, Value: a concise summary of the webpage (up to 300 words)\n",
    "    4. Field: `Noteworthy`, Value: 2–3 important bullet points divided by `•` (short, relevant highlights)\n",
    "    \n",
    "    ⚠️ Follow these strict rules:\n",
    "    - Use **only** Markdown table syntax.\n",
    "    - **Do not** modify or add any fields.\n",
    "    - **Do not** include explanations, reasoning, or extra text before or after the table.\n",
    "    - Use `•` for bullets inside the Noteworthy cell (use `<br>` to separate lines for each bullet).\n",
    "    - **Do not** use more than 4 table rows for the final output.\n",
    "    - If a value is missing, fill it with `\"Unknown\"` or infer it from the content.\n",
    "    \n",
    "    Here is the exact format to follow (replace only the values):\n",
    "    \n",
    "    ```\n",
    "    | Field      | Value         |\n",
    "    |------------|---------------|\n",
    "    | URL        | <url>         |\n",
    "    | Title      | <title>       |\n",
    "    | Summary    | <summary>     |\n",
    "    | Noteworthy | • point 1<br>• point 2<br>• point 3 |\n",
    "    ```\n",
    "    \"\"\"\n",
    "        return self.system_prompt\n",
    "\n",
    "    def user_prompt(self):\n",
    "        self.user_prompt = f\"\"\"\n",
    "        The website URL is {self.url}. The website Title is {self.title}. The website content is ```{self.text}```. \n",
    "        Please summarize.\n",
    "        \"\"\"\n",
    "        return self.user_prompt"
   ]
  },
  {
   "cell_type": "code",
   "execution_count": 115,
   "id": "17ccb560-4aee-47de-acdb-b46260ec6e31",
   "metadata": {},
   "outputs": [],
   "source": [
    "def api_message(website):\n",
    "    return [\n",
    "        {\"role\": \"system\", \"content\": website.system_prompt},\n",
    "        {\"role\": \"user\", \"content\": website.user_prompt}\n",
    "    ]\n",
    "\n",
    "def summarizer(url, selenium=False):\n",
    "    website = Website(url, selenium)\n",
    "    response = ollama.chat(model=\"llama3.2\", messages=api_message(website))\n",
    "    return response['message']['content']"
   ]
  },
  {
   "cell_type": "code",
   "execution_count": 116,
   "id": "d57dacf4-4de7-4e93-97b3-e29916cb18d5",
   "metadata": {},
   "outputs": [
    {
     "data": {
      "text/markdown": [
       "| Field      | Value         |\n",
       "|------------|---------------|\n",
       "| URL        | https://gtsig.eu |\n",
       "| Title      | George T.      |\n",
       "| Summary    | George T. is a cybersecurity expert with experience in Information Security, Music & good food. He has worked for various companies, including SKROUTZ.GR and EUROPEAN RELIANCE - ALLIANZ. He also has a degree in Piano and is proficient in multiple programming languages.         |\n",
       "| Noteworthy | • Penetration Tests: 9<br>• Internal Audits ISO 9001:2015, 27001:2013: 5<br>• Cybersecurity Training Courses: 2<br>• Vulnerability Assessments<br>• Tool Assisted Code Audits<br>• Custom CI/CD Security Integrations<br>• Custom SIEM setup on Elasticsearch |"
      ],
      "text/plain": [
       "<IPython.core.display.Markdown object>"
      ]
     },
     "metadata": {},
     "output_type": "display_data"
    }
   ],
   "source": [
    "summary = summarizer(\"https://gtsig.eu\")\n",
    "display(Markdown(summary))"
   ]
  },
  {
   "cell_type": "code",
   "execution_count": 117,
   "id": "ddd8a8b1-dbb6-48b6-8e86-0283e431fb1c",
   "metadata": {},
   "outputs": [
    {
     "data": {
      "text/markdown": [
       "| Field      | Value         |\n",
       "|------------|---------------|\n",
       "| URL        | https://www.airbnb.com/          |\n",
       "| Title      | Airbnb: Vacation Rentals, Cabins, Beach Houses, Unique Homes & Experiences     |\n",
       "| Summary    | A platform for booking unique vacation rentals worldwide, offering a diverse range of properties, including homes, cabins, and villas. Users can filter by location, price, and amenities to find their ideal getaway. The site also features listings for experiences, such as cooking classes and wine tastings.\n",
       "| Noteworthy | • Airbnb offers a wide selection of unique vacation rentals, catering to various interests and budgets. • The platform allows users to explore destinations worldwide and discover new experiences. • Airbnb has implemented measures to promote sustainability, such as eco-friendly properties and carbon offsetting options."
      ],
      "text/plain": [
       "<IPython.core.display.Markdown object>"
      ]
     },
     "metadata": {},
     "output_type": "display_data"
    }
   ],
   "source": [
    "summary = summarizer(\"https://www.airbnb.com/\")\n",
    "display(Markdown(summary))"
   ]
  },
  {
   "cell_type": "code",
   "execution_count": 118,
   "id": "cfb23300-87af-46c1-9ca4-8aa09c6b82b0",
   "metadata": {},
   "outputs": [
    {
     "data": {
      "text/markdown": [
       "| Field      | Value         |\n",
       "|------------|---------------|\n",
       "| URL        | https://www.airbnb.com/          |\n",
       "| Title      | Airbnb: Vacation Rentals, Cabins, Beach Houses, Unique Homes & Experiences    |\n",
       "| Summary    | Airbnb is a popular platform for vacation rentals, offering a wide range of unique homes and experiences worldwide. Users can search and book properties in various locations, including cities, beaches, and countryside areas. The website also provides travel tips, inspiration, and resources for hosts.          |\n",
       "| Noteworthy | • Pet-Friendly Vacation Rentals<br>• Luxury Dog-Friendly Cottages<br>• Beachfront Rentals with a Pool |"
      ],
      "text/plain": [
       "<IPython.core.display.Markdown object>"
      ]
     },
     "metadata": {},
     "output_type": "display_data"
    }
   ],
   "source": [
    "summary = summarizer(\"https://www.airbnb.com/\", selenium=True)\n",
    "display(Markdown(summary))"
   ]
  },
  {
   "cell_type": "code",
   "execution_count": 119,
   "id": "b9deaa39-c370-41ae-9c57-4b51382d1c6f",
   "metadata": {},
   "outputs": [
    {
     "data": {
      "text/markdown": [
       "| Field      | Value         |\n",
       "|------------|---------------|\n",
       "| URL        | https://www.netflix.com/ |\n",
       "| Title      | Netflix Greece - Watch TV Shows Online, Watch Movies Online  |\n",
       "| Summary    | Netflix is a streaming service offering a wide variety of award-winning TV shows, movies, anime, documentaries, and more. It allows users to watch as much as they want, whenever they want without commercials, for a fixed monthly fee ranging from €8.99 to €15.99. Users can access the platform on various devices, including smartphones, tablets, smart TVs, and streaming devices. |\n",
       "| Noteworthy | • The Netflix Kids experience is included in membership, providing family-friendly content with PIN-protected parental controls.|\n",
       "|            | • The service uses cookies and similar technologies to collect information about user browsing activities for analysis, personalization, and customization of online advertisements.|\n",
       "|            | • Users can opt out of advertising cookies, but may still see targeted ads based on other data sources."
      ],
      "text/plain": [
       "<IPython.core.display.Markdown object>"
      ]
     },
     "metadata": {},
     "output_type": "display_data"
    }
   ],
   "source": [
    "summary = summarizer(\"https://www.netflix.com/\", selenium=True)\n",
    "display(Markdown(summary))"
   ]
  }
 ],
 "metadata": {
  "kernelspec": {
   "display_name": "Python 3 (ipykernel)",
   "language": "python",
   "name": "python3"
  },
  "language_info": {
   "codemirror_mode": {
    "name": "ipython",
    "version": 3
   },
   "file_extension": ".py",
   "mimetype": "text/x-python",
   "name": "python",
   "nbconvert_exporter": "python",
   "pygments_lexer": "ipython3",
   "version": "3.11.13"
  }
 },
 "nbformat": 4,
 "nbformat_minor": 5
}
