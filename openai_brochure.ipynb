{
 "cells": [
  {
   "cell_type": "markdown",
   "id": "ca058d72-2678-48c2-aebb-1b6e1382cd69",
   "metadata": {},
   "source": [
    "# Company brochure generator\n",
    "\n",
    "Build a company brochure for a company to attract clients, investors and potential recruits."
   ]
  },
  {
   "cell_type": "code",
   "execution_count": 171,
   "id": "a4b32525-ca87-499b-91d2-a9af0c3c568d",
   "metadata": {},
   "outputs": [],
   "source": [
    "import os, sys\n",
    "import requests\n",
    "import json\n",
    "import time\n",
    "from typing import List\n",
    "from dotenv import load_dotenv\n",
    "from bs4 import BeautifulSoup\n",
    "from IPython.display import Markdown, display, update_display\n",
    "from openai import OpenAI\n",
    "import ollama\n",
    "from pydantic import BaseModel\n",
    "from selenium import webdriver\n",
    "from selenium.webdriver.chrome.options import Options\n",
    "from selenium.webdriver.support.ui import WebDriverWait"
   ]
  },
  {
   "cell_type": "code",
   "execution_count": 97,
   "id": "f41d72e9-3894-4ef0-b232-b74f8b9caa30",
   "metadata": {},
   "outputs": [
    {
     "name": "stdout",
     "output_type": "stream",
     "text": [
      "OpenAI API key loaded\n"
     ]
    }
   ],
   "source": [
    "load_dotenv()\n",
    "\n",
    "openai_api_key = os.getenv('OPENAI_API_KEY')\n",
    "\n",
    "if not openai_api_key:\n",
    "    print(\"No OpenAI API key defined\")\n",
    "    sys.exit(1)\n",
    "else:\n",
    "    print(\"OpenAI API key loaded\")"
   ]
  },
  {
   "cell_type": "code",
   "execution_count": 189,
   "id": "690f036a-7b90-4abe-8963-a59b2564e834",
   "metadata": {},
   "outputs": [],
   "source": [
    "def normalize_url(base_url, href):\n",
    "    if href.startswith(('http://', 'https://')):\n",
    "        return href\n",
    "    if href.endswith('/'):\n",
    "        return base_url + href[:-1]\n",
    "    else:\n",
    "        return base_url + href\n",
    "\n",
    "# OpenAI\n",
    "def get_links(url, selenium=False):\n",
    "    openai = OpenAI()\n",
    "    website = Website(url, selenium)\n",
    "    response = openai.chat.completions.create(\n",
    "        model = \"gpt-4o-mini\",\n",
    "        messages = [\n",
    "            {\"role\": \"system\", \"content\": website.system_prompt},\n",
    "            {\"role\": \"user\", \"content\": website.user_prompt}\n",
    "        ],\n",
    "        response_format = {\"type\": \"json_object\"}\n",
    "    )\n",
    "    return json.loads(response.choices[0].message.content)\n",
    "\n",
    "def get_brochure(json_str, _stream=False):\n",
    "    openai = OpenAI()\n",
    "    brochure = Brochure(json_str)\n",
    "    response = openai.chat.completions.create(\n",
    "        model = \"gpt-4o-mini\",\n",
    "        messages = [\n",
    "            {\"role\": \"system\", \"content\": brochure.system_prompt},\n",
    "            {\"role\": \"user\", \"content\": brochure.user_prompt}\n",
    "        ],\n",
    "        stream = _stream\n",
    "    )\n",
    "    if not _stream:\n",
    "        return response.choices[0].message.content\n",
    "    else:\n",
    "        output = \"\"\n",
    "        display_handle = display(Markdown(\"\"), display_id=True)\n",
    "        for chunk in response:\n",
    "            output += chunk.choices[0].delta.content or ''\n",
    "            output = output.replace(\"``\", \"\").replace(\"markdown\", \"\")\n",
    "            update_display(Markdown(output), display_id=display_handle.display_id)\n",
    "        return output\n",
    "\n",
    "def brochure_maker(url, selenium=False, _stream=True):\n",
    "    links = get_links(url, selenium)\n",
    "    brochure = get_brochure(links, _stream)\n",
    "    if not _stream:\n",
    "        return brochure\n",
    "\n",
    "# OSS\n",
    "class Links(BaseModel):\n",
    "    links: List[str]\n",
    "\n",
    "def get_links_oss(url, selenium=False):\n",
    "    website = Website(url, selenium)\n",
    "    response = ollama.chat(\n",
    "        model = \"llama3.2\",\n",
    "        messages = [\n",
    "            {\"role\": \"system\", \"content\": website.system_prompt},\n",
    "            {\"role\": \"user\", \"content\": website.user_prompt}\n",
    "        ],\n",
    "        format = Links.model_json_schema()\n",
    "    )\n",
    "    return json.loads(response['message']['content'])\n",
    "\n",
    "def get_brochure_oss(json_str, _stream=False):\n",
    "    brochure = Brochure(json_str)\n",
    "    response = ollama.chat(\n",
    "        model = \"llama3.2\",\n",
    "        messages = [\n",
    "            {\"role\": \"system\", \"content\": brochure.system_prompt},\n",
    "            {\"role\": \"user\", \"content\": brochure.user_prompt}\n",
    "        ],\n",
    "        stream = _stream\n",
    "    )\n",
    "    if not _stream:\n",
    "        return response['message']['content']\n",
    "    else:\n",
    "        output = \"\"\n",
    "        display_handle = display(Markdown(\"\"), display_id=True)\n",
    "        for chunk in response:\n",
    "            content = chunk[\"message\"][\"content\"] or \"\"\n",
    "            output += content\n",
    "            display_text = output.replace(\"```\", \"\")\n",
    "            update_display(Markdown(display_text), display_id=display_handle.display_id)\n",
    "        return output\n",
    "\n",
    "def brochure_maker_oss(url, selenium=False, _stream=True):\n",
    "    links = get_links_oss(url, selenium)\n",
    "    brochure = get_brochure_oss(links, _stream)\n",
    "    return brochure"
   ]
  },
  {
   "cell_type": "code",
   "execution_count": 124,
   "id": "13e2e7be-a284-49e0-a97d-03c65662826f",
   "metadata": {},
   "outputs": [],
   "source": [
    "class Website:\n",
    "    url: str\n",
    "    title: str\n",
    "    body: str\n",
    "    text: str\n",
    "    hrefs: List[str]\n",
    "    summary: str\n",
    "    system_prompt: str\n",
    "    user_prompt: str\n",
    "    selenium: bool\n",
    "\n",
    "    def __init__(self, url, selenium=False):\n",
    "        self.url = url\n",
    "        self.selenium = selenium\n",
    "        if selenium:\n",
    "            self._selenium()\n",
    "        else:\n",
    "            self._requests()\n",
    "        self.system_prompt()\n",
    "        self.user_prompt()\n",
    "\n",
    "    def _wait(self, driver, timeout=20):\n",
    "        from selenium.webdriver.support.ui import WebDriverWait\n",
    "        from selenium.webdriver.common.by import By\n",
    "    \n",
    "        try:\n",
    "            # Wait for the body to contain something\n",
    "            WebDriverWait(driver, timeout).until(lambda d: d.find_element(By.TAG_NAME, \"body\").text.strip() != \"\")\n",
    "        except:\n",
    "            pass\n",
    "\n",
    "        start = time.time()\n",
    "        prev_html = \"\"\n",
    "        cur_html = \"\"\n",
    "        stable_html_count = 0\n",
    "        # Halt at timeout\n",
    "        while time.time() - start < timeout:\n",
    "            cur_html = driver.page_source\n",
    "            if cur_html == prev_html:\n",
    "                stable_html_count += 1\n",
    "                # If the content is 5 times the same then it is considered stable\n",
    "                if stable_html_count > 5:\n",
    "                    return\n",
    "            else:\n",
    "                stable_html_count = 0\n",
    "            prev_html = cur_html\n",
    "            time.sleep(0.5)\n",
    "\n",
    "    def _requests(self):\n",
    "        response = requests.get(self.url)\n",
    "        self.body = response.content\n",
    "        soup = BeautifulSoup(response.content, 'html.parser')\n",
    "        self.title = soup.title.string if soup.title else \"Unknown\"\n",
    "        for no_text_tags in soup.body([\"script\", \"style\", \"img\", \"input\"]):\n",
    "            no_text_tags.decompose()\n",
    "        hrefs = soup.find_all('a', href=True)\n",
    "        self.hrefs = [normalize_url(self.url, href.get('href')) for href in hrefs if not href['href'].startswith(('#', 'javascript:'))]\n",
    "        self.text = soup.body.get_text(separator=\"\\n\", strip=True)\n",
    "\n",
    "    def _selenium(self):\n",
    "        options = Options()\n",
    "        options.add_argument(\"--headless\")\n",
    "        options.add_argument(\"--disable-gpu\")\n",
    "        options.add_argument(\"--no-sandbox\")\n",
    "        options.add_argument(\"--window-size=1920,1080\")\n",
    "        # These will make it look more like a human / normal behavior instead of an automated headless browser\n",
    "        options.add_argument(\"user-agent=Mozilla/5.0 (Windows NT 10.0; Win64; x64) AppleWebKit/537.36 (KHTML, like Gecko) Chrome/114.0.0.0 Safari/537.36\")\n",
    "        options.add_argument(\"--disable-blink-features=AutomationControlled\")\n",
    "        options.add_experimental_option(\"excludeSwitches\", [\"enable-automation\"])\n",
    "        options.add_experimental_option('useAutomationExtension', False)\n",
    "\n",
    "        driver = webdriver.Chrome(options=options)\n",
    "        driver.get(self.url)\n",
    "        # Wait until load\n",
    "        self._wait(driver)\n",
    "        html = driver.page_source\n",
    "        driver.quit()\n",
    "\n",
    "        soup = BeautifulSoup(html, 'html.parser')\n",
    "        self.title = soup.title.string if soup.title else \"Unknown\"\n",
    "        self.body = html\n",
    "        for no_text_tags in soup.body([\"script\", \"style\", \"img\", \"input\"]):\n",
    "            no_text_tags.decompose()\n",
    "        hrefs = soup.find_all('a', href=True)\n",
    "        self.hrefs = [normalize_url(self.url, href.get('href')) for href in hrefs if not href['href'].startswith(('#', 'javascript:'))]\n",
    "        self.text = soup.body.get_text(separator=\"\\n\", strip=True)\n",
    "\n",
    "    def printer(self):\n",
    "        print(f'Website: {self.url}') \n",
    "        print(f'Title: {self.title}')\n",
    "        print(f'Hrefs: {self.hrefs}')\n",
    "        print(f'Text Head: {self.text[:100]}...')\n",
    "\n",
    "    def system_prompt(self):\n",
    "        self.system_prompt = f\"\"\"\n",
    "    You are provided with a list of Links found on a website. \n",
    "    You have to decide which of the links would be most relevant to include in a brochure about the company found at {self.url}. \n",
    "    We are interested in pages that may include information of interest such as; About, Company, Career, Jobs, Contact, Social, or anything \n",
    "    relevant that can help us build an attractive brochure. \n",
    "    Do not include Terms of Service, Privacy Statements, Cookie notices, Payment methods or anything relevant. \n",
    "    You always respond in JSON format. \n",
    "    You do not output anything else other than the final JSON. \n",
    "    Your JSON has to look like the following:\n",
    "    \"\"\"\n",
    "        self.system_prompt += \"\"\"\n",
    "    {\n",
    "        \"links\": [\n",
    "            {\"type\": \"base_url\", description: \"<description>\", \"url\": \"<base_url>\"},\n",
    "            {\"type\": \"name\", description: \"<company_description>\", \"name\": \"<company_name>\"},\n",
    "            {\"type\": \"<type>\", description: \"<description>\", \"url\": \"<full_url>\"},\n",
    "            ...\n",
    "        ]\n",
    "    }\n",
    "    \"\"\"\n",
    "        self.system_prompt += f\"\"\"\n",
    "    The <base_url> includes only the base URL of the company, you know that already from the link provided above. \n",
    "    The <company_description> can be a small sentence up to 10 words describing the company function. \n",
    "    The <company_name> has to be the actual company name that you can find out. \n",
    "    The <type> can be 1 word for the page type. Eg. About, Company, Career, Jobs, Contact, Social, etc. Do maintain the other static types as provided in the example. \n",
    "    The <descrition> can be a small sentence up to 10 words describing the page function. \n",
    "    The <url> has to be the actual full url of the page. \n",
    "    The `...` mean that you have to do the same for all the relevant links that you picked out and fill the JSON object. \n",
    "    You have a limit of up to 30 links. There is no minimum limit.\n",
    "    \"\"\"\n",
    "        \n",
    "        return self.system_prompt\n",
    "\n",
    "    def user_prompt(self):\n",
    "        self.user_prompt = f\"\"\"\n",
    "        The website URL is {self.url}. The website Title is {self.title}. The website Links are provided below: \n",
    "        {self.hrefs}\n",
    "        \"\"\"\n",
    "        return self.user_prompt"
   ]
  },
  {
   "cell_type": "code",
   "execution_count": 125,
   "id": "5105c9fc-27be-4810-9578-c7f5c9576698",
   "metadata": {},
   "outputs": [
    {
     "name": "stdout",
     "output_type": "stream",
     "text": [
      "Website: https://gtsig.eu\n",
      "Title: George T.\n",
      "Hrefs: ['https://www.linkedin.com/in/giorgos-tsigourakos/', 'https://github.com/tsigouris007', 'https://myportal.europisti.gr', 'https://myservices.europisti.gr', 'https://mypolicy.europisti.gr', 'https://physicaltaste.gr', 'https://imikrimaspoli.gr', 'https://rosacolorato.gr', 'https://cavakolokouras.gr', 'https://marmorisfitness.gr/', 'https://alissachnimykonos.com', 'https://alissachniseaside.com', 'https://mdstudio.gr', 'https://diatasi.gr', 'https://politismos.dimosbyrona.gr', 'https://www.wonderfoodland.gr', 'https://beerpack.gr', 'https://nicksvoice.gr', 'https://kostasmaragos.com', 'https://primamateriatherapeutica.gr', 'https://kostasmaragos.com', 'https://gtsig.eu', 'https://www.youtube.com/watch?v=_P0kMzTTL3M', 'https://www.youtube.com/watch?v=A-uMM2zW2io', 'https://www.youtube.com/watch?v=Ew3chxpu9SI', 'https://www.youtube.com/watch?v=jw2DYExMeLM', 'https://www.youtube.com/watch?v=KPL8WJ_MH-I', 'https://www.youtube.com/watch?v=a73G8OfHI88', 'https://www.youtube.com/watch?v=Jf6r_mxnQfM', 'https://www.youtube.com/watch?v=RQACDMqP1E4', 'https://www.youtube.com/watch?v=zZ8JGH0zSY4', 'https://www.youtube.com/watch?v=rR8F9f2pV1k', 'https://www.youtube.com/watch?v=YMnu6KmgeNA', 'https://www.youtube.com/watch?v=c62003Bu4Y0', 'https://endofiris.bandcamp.com/album/a-new-era', 'https://www.linkedin.com/in/giorgos-tsigourakos/', 'https://github.com/tsigouris007']\n",
      "Text Head: cyber\n",
      "dev\n",
      "engineer\n",
      "About Me\n",
      "Experience\n",
      "Projects\n",
      "Education\n",
      "Contact Me\n",
      "Have Fun\n",
      "Play Me\n",
      "Stop Me\n",
      "Enjoy\n",
      "...\n"
     ]
    }
   ],
   "source": [
    "website = Website('https://gtsig.eu')\n",
    "website.printer()"
   ]
  },
  {
   "cell_type": "code",
   "execution_count": 126,
   "id": "01dae737-e077-4bce-887a-49c93c02b7e1",
   "metadata": {},
   "outputs": [
    {
     "name": "stdout",
     "output_type": "stream",
     "text": [
      "Website: https://airbnb.com\n",
      "Title: Airbnb: Vacation Rentals, Cabins, Beach Houses, Unique Homes & Experiences\n",
      "Hrefs: ['https://airbnb.com', 'https://airbnb.com/homes', 'https://airbnb.com/experiences', 'https://airbnb.com/services', 'https://airbnb.com/help', 'https://airbnb.com/co-hosts/home', 'https://airbnb.com/giftcards', 'https://airbnb.com/signup_login', 'https://airbnb.com/united-states/stays/cabins', 'https://airbnb.com/united-states/stays/treehouses', 'https://airbnb.com/united-states/stays/glamping', 'https://airbnb.com/united-states/stays/tiny-houses', 'https://airbnb.com/united-states/stays/beach-houses', 'https://airbnb.com/united-states/stays/campers', 'https://airbnb.com/united-states/stays/lakehouses', 'https://airbnb.com/united-states/stays/yurts', 'https://airbnb.com/united-kingdom/stays/yurts', 'https://airbnb.com/united-states/stays/castles', 'https://airbnb.com/united-states/stays/houseboats', 'https://airbnb.com/united-kingdom/stays/holiday-caravans', 'https://airbnb.com/united-states/stays/private-islands', 'https://airbnb.com/united-states/stays/farm-houses', 'https://airbnb.com/united-kingdom/stays/farm-cottages', 'https://airbnb.com/australia/stays/cabins', 'https://airbnb.com/united-kingdom/stays/luxury-cabins', 'https://airbnb.com/united-states/stays/luxury-cabins', 'https://airbnb.com/united-kingdom/stays/holiday-chalets', 'https://airbnb.com/united-states/stays/cottages', 'https://airbnb.com/united-kingdom/stays/holiday-cottages', 'https://airbnb.com/united-states/stays/mansions', 'https://airbnb.com/united-kingdom/stays/villas', 'https://airbnb.com/united-kingdom/stays/holiday-bungalows', 'https://airbnb.com/united-states/stays/bungalows', 'https://airbnb.com/united-states/stays/condos', 'https://airbnb.com/australia/stays/holiday-apartments', 'https://airbnb.com/united-states/stays/holiday-houses', 'https://airbnb.com/united-kingdom/stays/holiday-houses', 'https://airbnb.com/united-kingdom/stays/private', 'https://airbnb.com/united-states/stays/big-houses', 'https://airbnb.com/australia/stays/big-cottages', 'https://airbnb.com/united-kingdom/stays/large-villas', 'https://airbnb.com/united-states/stays/houses-pools', 'https://airbnb.com/united-states/stays/cabins-pools', 'https://airbnb.com/united-kingdom/stays/villas-pools', 'https://airbnb.com/united-states/stays/apartments-hot-tubs', 'https://airbnb.com/united-kingdom/stays/holiday-cottages-hot-tubs', 'https://airbnb.com/united-states/stays/beach-cabins', 'https://airbnb.com/united-states/stays/beach-condos', 'https://airbnb.com/united-states/stays/beachfront', 'https://airbnb.com/united-kingdom/stays/beach-houses', 'https://airbnb.com/united-kingdom/stays/beach-villas', 'https://airbnb.com/united-kingdom/stays/coastal-cottages', 'https://airbnb.com/united-states/stays/pet-friendly', 'https://airbnb.com/united-states/stays/pet-friendly-beaches', 'https://airbnb.com/united-states/stays/pet-friendly-cabins', 'https://airbnb.com/united-kingdom/stays/dog-friendly-cottages', 'https://airbnb.com/united-kingdom/stays/luxury-dog-friendly-cottages', 'https://airbnb.com/help/home?from=footer', 'https://airbnb.com/aircover', 'https://airbnb.com/against-discrimination', 'https://airbnb.com/accessibility', 'https://airbnb.com/help/article/2701/extenuating-circumstances-policy-and-the-coronavirus-covid19', 'https://airbnb.com/neighbors', 'https://airbnb.com/host/homes?from_footer=1', 'https://airbnb.com/host/experiences', 'https://airbnb.com/host/services', 'https://airbnb.com/aircover-for-hosts', 'https://airbnb.com/resources', 'https://community.withairbnb.com/t5/Community-Center/ct-p/community-center', 'https://airbnb.com/help/responsible-hosting', 'https://airbnb.com/airbnb-friendly', 'https://introtohostingonairbnbwebinars.splashthat.com/', 'https://airbnb.com/host/co-hosts', 'https://airbnb.com/release', 'https://airbnb.com/press/news', 'https://airbnb.com/careers', 'https://investors.airbnb.com', 'https://airbnb.com/giftcards', 'https://www.airbnb.org?locale=en', 'https://www.facebook.com/airbnb', 'https://twitter.com/airbnb', 'https://instagram.com/airbnb', 'https://airbnb.com/terms', 'https://airbnb.com/sitemaps/v2', 'https://airbnb.com/terms/privacy_policy', 'https://airbnb.com/help/sale-share-opt-out', 'https://www.facebook.com/airbnb', 'https://twitter.com/airbnb', 'https://instagram.com/airbnb', 'https://airbnb.com/terms', 'https://airbnb.com/sitemaps/v2', 'https://airbnb.com/terms/privacy_policy', 'https://airbnb.com/help/sale-share-opt-out', 'https://airbnb.com/terms', 'https://airbnb.com/sitemaps/v2', 'https://airbnb.com/terms/privacy_policy', 'https://airbnb.com/help/sale-share-opt-out', 'https://www.facebook.com/airbnb', 'https://twitter.com/airbnb', 'https://instagram.com/airbnb']\n",
      "Text Head: Skip to content\n",
      "We’re sorry, some parts of the Airbnb website don’t work properly without JavaScript...\n"
     ]
    }
   ],
   "source": [
    "website = Website('https://airbnb.com')\n",
    "website.printer()"
   ]
  },
  {
   "cell_type": "code",
   "execution_count": 110,
   "id": "f97b5e88-6627-42c6-b6bd-ddd8c7515dd1",
   "metadata": {},
   "outputs": [
    {
     "name": "stdout",
     "output_type": "stream",
     "text": [
      "Website: https://airbnb.com\n",
      "Title: Airbnb | Vacation rentals, cabins, beach houses, & more\n",
      "Hrefs: ['https://airbnb.com', 'https://airbnb.com/homes', 'https://airbnb.com/experiences', 'https://airbnb.com/services', 'https://airbnb.com/s/Athens/homes?place_id=ChIJ8UNwBh-9oRQR3Y1mdkU1Nic&refinement_paths%5B%5D=%2Fhomes&flexible_trip_lengths%5B%5D=weekend_trip&date_picker_type=FLEXIBLE_DATES&search_type=HOMEPAGE_CAROUSEL_CLICK', 'https://airbnb.com/rooms/1323300909826473606?check_in=2025-11-07&check_out=2025-11-09&photo_id=2191451835&source_impression_id=p3_1751363496_P3XCNV6l1a4B2VJq&previous_page_section_name=1000', 'https://airbnb.com/rooms/1328795490105870915?check_in=2025-10-31&check_out=2025-11-02&photo_id=2063189277&source_impression_id=p3_1751363496_P3nfSKD81SrIs6ZQ&previous_page_section_name=1000', 'https://airbnb.com/rooms/1323072299132299735?check_in=2025-11-07&check_out=2025-11-09&photo_id=2081625969&source_impression_id=p3_1751363496_P3oME6u6KwBzGfyq&previous_page_section_name=1000', 'https://airbnb.com/rooms/14081186?check_in=2025-10-24&check_out=2025-10-26&photo_id=208660577&source_impression_id=p3_1751363496_P3Bz2W0ve3KxB5Fn&previous_page_section_name=1000', 'https://airbnb.com/rooms/22425829?check_in=2025-11-14&check_out=2025-11-16&photo_id=596742761&source_impression_id=p3_1751363496_P3dvAJaIEBaQTCZv&previous_page_section_name=1000', 'https://airbnb.com/rooms/14676028?check_in=2026-01-09&check_out=2026-01-11&photo_id=201070441&source_impression_id=p3_1751363496_P3-4cg3wEXqAwvly&previous_page_section_name=1000', 'https://airbnb.com/rooms/38818513?check_in=2025-09-12&check_out=2025-09-14&photo_id=870456920&source_impression_id=p3_1751363496_P3xKrPj2U4ZURal1&previous_page_section_name=1000', 'https://airbnb.com/rooms/591945606083506328?check_in=2025-11-21&check_out=2025-11-23&photo_id=1398622302&source_impression_id=p3_1751363496_P32QZgpyXJfmLNfw&previous_page_section_name=1000', 'https://airbnb.com/s/Kalamata/homes?place_id=ChIJKXhLYpmwYRMRnl9ice2VH_w&refinement_paths%5B%5D=%2Fhomes&date_picker_type=CALENDAR&checkin=2025-07-04&checkout=2025-07-06&search_type=HOMEPAGE_CAROUSEL_CLICK', 'https://airbnb.com/rooms/1187549746525553553?check_in=2025-07-04&check_out=2025-07-06&photo_id=1952633937&source_impression_id=p3_1751363496_P3wgMnpyKzNWU-7h&previous_page_section_name=1000', 'https://airbnb.com/rooms/1422473845820244636?check_in=2025-07-04&check_out=2025-07-06&photo_id=2176231765&source_impression_id=p3_1751363496_P31DjH-SRtOMmKI4&previous_page_section_name=1000', 'https://airbnb.com/rooms/1363223115633413816?check_in=2025-07-04&check_out=2025-07-06&photo_id=2108459842&source_impression_id=p3_1751363496_P3SQeTgnnKfMxvr2&previous_page_section_name=1000', 'https://airbnb.com/rooms/36610178?check_in=2025-07-04&check_out=2025-07-06&photo_id=1037312980&source_impression_id=p3_1751363496_P3oKUySvPdED2RJO&previous_page_section_name=1000', 'https://airbnb.com/rooms/919993522639187835?check_in=2025-07-04&check_out=2025-07-06&photo_id=1681668241&source_impression_id=p3_1751363496_P3MwBUOnaXca10fX&previous_page_section_name=1000', 'https://airbnb.com/rooms/922379289011103933?check_in=2025-07-04&check_out=2025-07-06&photo_id=1683980213&source_impression_id=p3_1751363496_P3jYDcz-ZuP2te14&previous_page_section_name=1000', 'https://airbnb.com/rooms/34709828?check_in=2025-07-04&check_out=2025-07-06&photo_id=1466402920&source_impression_id=p3_1751363496_P32qYxCCTX9aBNm7&previous_page_section_name=1000', 'https://airbnb.com/rooms/35157193?check_in=2025-07-04&check_out=2025-07-06&photo_id=766605848&source_impression_id=p3_1751363496_P3gXKMDseGIby3TT&previous_page_section_name=1000', 'https://airbnb.com/s/Heraklion/homes?place_id=ChIJP-Fo0GtYmhQR8La54iy9AAQ&refinement_paths%5B%5D=%2Fhomes&flexible_trip_lengths%5B%5D=weekend_trip&date_picker_type=FLEXIBLE_DATES&search_type=HOMEPAGE_CAROUSEL_CLICK', 'https://airbnb.com/rooms/1051472333358229482?check_in=2025-10-24&check_out=2025-10-26&photo_id=1807230194&source_impression_id=p3_1751363496_P3pNP6kfGfWzLMCQ&previous_page_section_name=1000', 'https://airbnb.com/rooms/966456913712040922?check_in=2025-10-10&check_out=2025-10-12&photo_id=1727652139&source_impression_id=p3_1751363496_P3A4yJsi0gyKBVFd&previous_page_section_name=1000', 'https://airbnb.com/rooms/48804552?check_in=2025-07-18&check_out=2025-07-20&photo_id=1951483664&source_impression_id=p3_1751363496_P3Y2DYDUpZ8WAvF6&previous_page_section_name=1000', 'https://airbnb.com/rooms/32813318?check_in=2025-10-10&check_out=2025-10-12&photo_id=710416972&source_impression_id=p3_1751363496_P3n_dSK0io44GyM7&previous_page_section_name=1000', 'https://airbnb.com/rooms/38022842?check_in=2025-09-05&check_out=2025-09-07&photo_id=1729414641&source_impression_id=p3_1751363496_P3zIHU5mrsuhha3s&previous_page_section_name=1000', 'https://airbnb.com/rooms/1042593793794411151?check_in=2025-10-10&check_out=2025-10-12&photo_id=1862130226&source_impression_id=p3_1751363496_P3ZMqGvd05AxDbAh&previous_page_section_name=1000', 'https://airbnb.com/rooms/1101625830394393552?check_in=2025-10-17&check_out=2025-10-19&photo_id=1862530239&source_impression_id=p3_1751363496_P3nJkiPdPuF3vW8V&previous_page_section_name=1000', 'https://airbnb.com/rooms/900677365784541985?check_in=2025-10-10&check_out=2025-10-12&photo_id=1661342066&source_impression_id=p3_1751363496_P3J1ExUJE7Wf09LS&previous_page_section_name=1000', 'https://airbnb.com/s/Chani%C3%A1/homes?place_id=ChIJOz_P4L59nBQRqCzNeX1Vs5Q&refinement_paths%5B%5D=%2Fhomes&date_picker_type=CALENDAR&checkin=2025-07-04&checkout=2025-07-06&search_type=HOMEPAGE_CAROUSEL_CLICK', 'https://airbnb.com/rooms/50025433?check_in=2025-07-04&check_out=2025-07-06&photo_id=1202897130&source_impression_id=p3_1751363496_P3ehd5v3tULMO1lW&previous_page_section_name=1000', 'https://airbnb.com/rooms/16138010?check_in=2025-07-04&check_out=2025-07-06&photo_id=877834208&source_impression_id=p3_1751363496_P3WwA2ZEHcAIiJUf&previous_page_section_name=1000', 'https://airbnb.com/rooms/15389386?check_in=2025-07-04&check_out=2025-07-06&photo_id=339788119&source_impression_id=p3_1751363496_P3ZeECNHxNEHgE80&previous_page_section_name=1000', 'https://airbnb.com/rooms/34068188?check_in=2025-07-04&check_out=2025-07-06&photo_id=761226246&source_impression_id=p3_1751363496_P3dGNgZUhnJAugo_&previous_page_section_name=1000', 'https://airbnb.com/rooms/919506839661568780?check_in=2025-07-04&check_out=2025-07-06&photo_id=1681173341&source_impression_id=p3_1751363496_P3GYHypnZKAzEsNL&previous_page_section_name=1000', 'https://airbnb.com/rooms/1152943089905974230?check_in=2025-07-04&check_out=2025-07-06&photo_id=1903325501&source_impression_id=p3_1751363496_P3s069LdfpS5uANg&previous_page_section_name=1000', 'https://airbnb.com/rooms/1390444627153925879?check_in=2025-07-04&check_out=2025-07-06&photo_id=2125308432&source_impression_id=p3_1751363496_P3qUtvgCt-oPWjdb&previous_page_section_name=1000', 'https://airbnb.com/rooms/43748745?check_in=2025-07-04&check_out=2025-07-06&photo_id=1017565653&source_impression_id=p3_1751363496_P3K41sWsOqlatglq&previous_page_section_name=1000', 'https://airbnb.com/s/Nafplio/homes?place_id=ChIJY3lRwZz6nxQRuEDWtg1FTgg&refinement_paths%5B%5D=%2Fhomes&flexible_trip_lengths%5B%5D=weekend_trip&date_picker_type=FLEXIBLE_DATES&search_type=HOMEPAGE_CAROUSEL_CLICK', 'https://airbnb.com/rooms/21488138?check_in=2025-10-24&check_out=2025-10-26&photo_id=776712418&source_impression_id=p3_1751363496_P3XYbWR2TMiMWRXV&previous_page_section_name=1000', 'https://airbnb.com/rooms/1312475977889616506?check_in=2025-09-05&check_out=2025-09-07&photo_id=2085008376&source_impression_id=p3_1751363496_P32SazrP_8H0-dLc&previous_page_section_name=1000', 'https://airbnb.com/rooms/27453905?check_in=2026-01-02&check_out=2026-01-04&photo_id=1636919811&source_impression_id=p3_1751363496_P3AdgAWitNpUa1k1&previous_page_section_name=1000', 'https://airbnb.com/rooms/21203202?check_in=2025-11-07&check_out=2025-11-09&photo_id=387788310&source_impression_id=p3_1751363496_P3Ky9KwFysAnABq-&previous_page_section_name=1000', 'https://airbnb.com/rooms/48039191?check_in=2025-10-03&check_out=2025-10-05&photo_id=1129494653&source_impression_id=p3_1751363496_P3Ee4FfIWiwl31aD&previous_page_section_name=1000', 'https://airbnb.com/rooms/30894849?check_in=2025-08-29&check_out=2025-08-31&photo_id=783528577&source_impression_id=p3_1751363496_P3BDeMr3FSeXf4o6&previous_page_section_name=1000', 'https://airbnb.com/rooms/38425774?check_in=2025-10-31&check_out=2025-11-02&photo_id=850330438&source_impression_id=p3_1751363496_P3eUMAXoQdgnVH3o&previous_page_section_name=1000', 'https://airbnb.com/rooms/36314225?check_in=2025-08-01&check_out=2025-08-03&photo_id=855580380&source_impression_id=p3_1751363496_P3fWDJCs4tu5W-id&previous_page_section_name=1000', 'https://airbnb.com/united-states/stays/cabins', 'https://airbnb.com/united-states/stays/treehouses', 'https://airbnb.com/united-states/stays/glamping', 'https://airbnb.com/united-states/stays/tiny-houses', 'https://airbnb.com/united-states/stays/beach-houses', 'https://airbnb.com/united-states/stays/campers', 'https://airbnb.com/united-states/stays/lakehouses', 'https://airbnb.com/united-states/stays/yurts', 'https://airbnb.com/united-kingdom/stays/yurts', 'https://airbnb.com/united-states/stays/castles', 'https://airbnb.com/united-states/stays/houseboats', 'https://airbnb.com/united-kingdom/stays/holiday-caravans', 'https://airbnb.com/united-states/stays/private-islands', 'https://airbnb.com/united-states/stays/farm-houses', 'https://airbnb.com/united-kingdom/stays/farm-cottages', 'https://airbnb.com/australia/stays/cabins', 'https://airbnb.com/united-kingdom/stays/luxury-cabins', 'https://airbnb.com/united-states/stays/luxury-cabins', 'https://airbnb.com/united-kingdom/stays/holiday-chalets', 'https://airbnb.com/united-states/stays/cottages', 'https://airbnb.com/united-kingdom/stays/holiday-cottages', 'https://airbnb.com/united-states/stays/mansions', 'https://airbnb.com/united-kingdom/stays/villas', 'https://airbnb.com/united-kingdom/stays/holiday-bungalows', 'https://airbnb.com/united-states/stays/bungalows', 'https://airbnb.com/united-states/stays/condos', 'https://airbnb.com/australia/stays/holiday-apartments', 'https://airbnb.com/united-states/stays/holiday-houses', 'https://airbnb.com/united-kingdom/stays/holiday-houses', 'https://airbnb.com/united-kingdom/stays/private', 'https://airbnb.com/united-states/stays/big-houses', 'https://airbnb.com/australia/stays/big-cottages', 'https://airbnb.com/united-kingdom/stays/large-villas', 'https://airbnb.com/united-states/stays/houses-pools', 'https://airbnb.com/united-states/stays/cabins-pools', 'https://airbnb.com/united-kingdom/stays/villas-pools', 'https://airbnb.com/united-states/stays/apartments-hot-tubs', 'https://airbnb.com/united-kingdom/stays/holiday-cottages-hot-tubs', 'https://airbnb.com/united-states/stays/beach-cabins', 'https://airbnb.com/united-states/stays/beach-condos', 'https://airbnb.com/united-states/stays/beachfront', 'https://airbnb.com/united-kingdom/stays/beach-houses', 'https://airbnb.com/united-kingdom/stays/beach-villas', 'https://airbnb.com/united-kingdom/stays/coastal-cottages', 'https://airbnb.com/united-states/stays/pet-friendly', 'https://airbnb.com/united-states/stays/pet-friendly-beaches', 'https://airbnb.com/united-states/stays/pet-friendly-cabins', 'https://airbnb.com/united-kingdom/stays/dog-friendly-cottages', 'https://airbnb.com/united-kingdom/stays/luxury-dog-friendly-cottages', 'https://airbnb.com/help/home?from=footer', 'https://airbnb.com/aircover', 'https://airbnb.com/against-discrimination', 'https://airbnb.com/accessibility', 'https://airbnb.com/help/article/2701/extenuating-circumstances-policy-and-the-coronavirus-covid19', 'https://airbnb.com/neighbors', 'https://airbnb.com/host/homes?from_footer=1', 'https://airbnb.com/host/experiences', 'https://airbnb.com/host/services', 'https://airbnb.com/aircover-for-hosts', 'https://airbnb.com/resources', 'https://community.withairbnb.com/t5/Community-Center/ct-p/community-center', 'https://airbnb.com/help/responsible-hosting', 'https://airbnb.com/airbnb-friendly', 'https://introtohostingonairbnbwebinars.splashthat.com/', 'https://airbnb.com/host/co-hosts', 'https://airbnb.com/release', 'https://airbnb.com/press/news', 'https://airbnb.com/careers', 'https://investors.airbnb.com', 'https://airbnb.com/giftcards', 'https://www.airbnb.org?locale=en', 'https://www.facebook.com/airbnb', 'https://twitter.com/airbnb', 'https://instagram.com/airbnb', 'https://airbnb.com/terms', 'https://airbnb.com/sitemaps/v2', 'https://airbnb.com/terms/privacy_policy', 'https://airbnb.com/help/sale-share-opt-out', 'https://www.facebook.com/airbnb', 'https://twitter.com/airbnb', 'https://instagram.com/airbnb', 'https://airbnb.com/terms', 'https://airbnb.com/sitemaps/v2', 'https://airbnb.com/terms/privacy_policy', 'https://airbnb.com/help/sale-share-opt-out', 'https://airbnb.com/terms', 'https://airbnb.com/sitemaps/v2', 'https://airbnb.com/terms/privacy_policy', 'https://airbnb.com/help/sale-share-opt-out', 'https://www.facebook.com/airbnb', 'https://twitter.com/airbnb', 'https://instagram.com/airbnb']\n",
      "Text Head: Skip to content\n",
      "We’re sorry, some parts of the Airbnb website don’t work properly without JavaScript...\n"
     ]
    }
   ],
   "source": [
    "website = Website('https://airbnb.com', selenium=True)\n",
    "website.printer()"
   ]
  },
  {
   "cell_type": "code",
   "execution_count": 144,
   "id": "9fe50c1e-b46e-4ed7-b227-df03042f0d15",
   "metadata": {},
   "outputs": [
    {
     "data": {
      "text/plain": [
       "{'links': [{'type': 'base_url',\n",
       "   'description': 'Company website',\n",
       "   'url': 'https://gtsig.eu'},\n",
       "  {'type': 'name',\n",
       "   'description': \"George T.'s professional page\",\n",
       "   'name': 'George T.'},\n",
       "  {'type': 'Social',\n",
       "   'description': 'LinkedIn profile of Giorgos Tsigourakos',\n",
       "   'url': 'https://www.linkedin.com/in/giorgos-tsigourakos/'},\n",
       "  {'type': 'Social',\n",
       "   'description': 'GitHub profile of Giorgos Tsigourakos',\n",
       "   'url': 'https://github.com/tsigouris007'}]}"
      ]
     },
     "execution_count": 144,
     "metadata": {},
     "output_type": "execute_result"
    }
   ],
   "source": [
    "links1 = get_links(\"https://gtsig.eu\")\n",
    "links1"
   ]
  },
  {
   "cell_type": "code",
   "execution_count": 133,
   "id": "ed611258-57a3-4e32-b9e4-344181167108",
   "metadata": {},
   "outputs": [
    {
     "data": {
      "text/plain": [
       "{'links': [{'type': 'base_url',\n",
       "   'description': 'The main website of Airbnb',\n",
       "   'url': 'https://airbnb.com'},\n",
       "  {'type': 'name',\n",
       "   'description': 'Connects travelers with unique accommodations',\n",
       "   'name': 'Airbnb'},\n",
       "  {'type': 'About',\n",
       "   'description': 'Learn about Airbnb and its mission',\n",
       "   'url': 'https://airbnb.com/press/news'},\n",
       "  {'type': 'Career',\n",
       "   'description': 'Browse job opportunities at Airbnb',\n",
       "   'url': 'https://airbnb.com/careers'},\n",
       "  {'type': 'Contact',\n",
       "   'description': 'Get support and assistance from Airbnb',\n",
       "   'url': 'https://airbnb.com/help'},\n",
       "  {'type': 'Social',\n",
       "   'description': 'Follow Airbnb on Facebook',\n",
       "   'url': 'https://www.facebook.com/airbnb'},\n",
       "  {'type': 'Social',\n",
       "   'description': 'Follow Airbnb on Twitter',\n",
       "   'url': 'https://twitter.com/airbnb'},\n",
       "  {'type': 'Social',\n",
       "   'description': 'Follow Airbnb on Instagram',\n",
       "   'url': 'https://instagram.com/airbnb'},\n",
       "  {'type': 'Community',\n",
       "   'description': 'Join the Airbnb community for support',\n",
       "   'url': 'https://community.withairbnb.com/t5/Community-Center/ct-p/community-center'}]}"
      ]
     },
     "execution_count": 133,
     "metadata": {},
     "output_type": "execute_result"
    }
   ],
   "source": [
    "links2 = get_links(\"https://airbnb.com\")\n",
    "links2"
   ]
  },
  {
   "cell_type": "code",
   "execution_count": 132,
   "id": "234ef55e-8301-4808-a305-1d189136ee0b",
   "metadata": {},
   "outputs": [
    {
     "data": {
      "text/plain": [
       "{'links': [{'type': 'base_url',\n",
       "   'description': 'The main website for Airbnb',\n",
       "   'url': 'https://airbnb.com'},\n",
       "  {'type': 'name',\n",
       "   'description': 'Online marketplace for lodging and travel',\n",
       "   'name': 'Airbnb'},\n",
       "  {'type': 'About',\n",
       "   'description': 'Learn more about Airbnb',\n",
       "   'url': 'https://airbnb.com/about'},\n",
       "  {'type': 'Careers',\n",
       "   'description': 'View job opportunities at Airbnb',\n",
       "   'url': 'https://airbnb.com/careers'},\n",
       "  {'type': 'Contact',\n",
       "   'description': 'Get in touch with Airbnb',\n",
       "   'url': 'https://airbnb.com/help/home?from=footer'},\n",
       "  {'type': 'Social',\n",
       "   'description': 'Follow Airbnb on Facebook',\n",
       "   'url': 'https://www.facebook.com/airbnb'},\n",
       "  {'type': 'Social',\n",
       "   'description': 'Follow Airbnb on Twitter',\n",
       "   'url': 'https://twitter.com/airbnb'},\n",
       "  {'type': 'Social',\n",
       "   'description': 'Follow Airbnb on Instagram',\n",
       "   'url': 'https://instagram.com/airbnb'},\n",
       "  {'type': 'Press',\n",
       "   'description': \"Read Airbnb's latest news\",\n",
       "   'url': 'https://airbnb.com/press/news'},\n",
       "  {'type': 'Investors',\n",
       "   'description': 'Information for Airbnb investors',\n",
       "   'url': 'https://investors.airbnb.com'}]}"
      ]
     },
     "execution_count": 132,
     "metadata": {},
     "output_type": "execute_result"
    }
   ],
   "source": [
    "links3 = get_links(\"https://airbnb.com\", selenium=True)\n",
    "links3"
   ]
  },
  {
   "cell_type": "code",
   "execution_count": 180,
   "id": "581345c3-38a7-45ba-bc4d-610ac6117fc8",
   "metadata": {},
   "outputs": [],
   "source": [
    "class Brochure:\n",
    "    json: str\n",
    "\n",
    "    def __init__(self, json):\n",
    "        self.json = json\n",
    "        self.system_prompt()\n",
    "        self.user_prompt()\n",
    "\n",
    "    def printer(self):\n",
    "        print(f'JSON: {self.json}')\n",
    "\n",
    "    def system_prompt(self):\n",
    "        self.system_prompt = f\"\"\"\n",
    "    You are a brochure builder. \n",
    "    You are provided with a JSON structured object that includes company details. \n",
    "    You have to build a short brochure showcasing the company to attract clients, recruits and stakeholders. \n",
    "    The output has to be formatted in Markdown. \n",
    "    Do not output thoughts or anything else other than the final Markdown brochure.\n",
    "    \"\"\"\n",
    "        \n",
    "        return self.system_prompt\n",
    "\n",
    "    def user_prompt(self):\n",
    "        self.user_prompt = f\"\"\"\n",
    "    The company details follow: \n",
    "    {self.json}\n",
    "    \"\"\"\n",
    "        return self.user_prompt"
   ]
  },
  {
   "cell_type": "code",
   "execution_count": 151,
   "id": "5518990b-72a3-47db-ae4e-bd8e8594267a",
   "metadata": {},
   "outputs": [
    {
     "data": {
      "text/markdown": [
       "---\n",
       "### Welcome to GTSIG!\n",
       "\n",
       "**Your Gateway to Innovative Solutions**\n",
       "\n",
       "At GTSIG, we specialize in delivering cutting-edge solutions tailored for the modern world. Whether you are looking for exceptional service or a partnership that drives innovation, our team is here to elevate your business.\n",
       "\n",
       "#### About Us:\n",
       "GTSIG is committed to leveraging technology for impactful results. Our expertise spans various domains, ensuring we meet the unique needs of each client. With a focus on integrity, collaboration, and excellence, we pride ourselves in fostering meaningful relationships with clients, recruits, and stakeholders alike.\n",
       "\n",
       "#### Connect with Us\n",
       "Explore more about our projects and join our community:\n",
       "\n",
       "- **Website:** [gtsig.eu](https://gtsig.eu)\n",
       "- **George T.**: Visit [George T.'s professional page](#) to learn more about our leadership and expertise.\n",
       "- **LinkedIn:** Connect with our founder on [LinkedIn](https://www.linkedin.com/in/giorgos-tsigourakos/) for insights and updates.\n",
       "- **GitHub:** Check out our code and contributions on [GitHub](https://github.com/tsigouris007).\n",
       "\n",
       "#### Join Us\n",
       "Are you ready to take the next step in your career? Discover exciting opportunities with GTSIG. We are always looking for passionate individuals who want to make a difference.\n",
       "\n",
       "#### Partner with Us\n",
       "Looking for a reliable partner to grow your business? GTSIG offers tailored solutions to help you achieve your goals. Let's build the future together!\n",
       "\n",
       "---\n",
       "\n",
       "For inquiries, reach out to us through our website or connect with George T. on LinkedIn. We look forward to collaborating with you!"
      ],
      "text/plain": [
       "<IPython.core.display.Markdown object>"
      ]
     },
     "metadata": {},
     "output_type": "display_data"
    }
   ],
   "source": [
    "brochure = get_brochure(links1)\n",
    "display(Markdown(brochure))"
   ]
  },
  {
   "cell_type": "code",
   "execution_count": 149,
   "id": "730aa5fe-d4cb-465c-8803-223c028ce4ea",
   "metadata": {},
   "outputs": [
    {
     "data": {
      "text/markdown": [
       "---\n",
       "\n",
       "**Welcome to Airbnb!**  \n",
       "*Your Gateway to Unique Lodging and Travel Experiences*\n",
       "\n",
       "---\n",
       "\n",
       "**About Us**  \n",
       "Airbnb is a leading online marketplace specializing in short-term lodging and travel experiences around the globe. We connect travelers with hosts offering a wide range of accommodations — from cozy apartments to luxurious villas.\n",
       "\n",
       "[Learn more about us](https://airbnb.com/about)\n",
       "\n",
       "---\n",
       "\n",
       "**Join Our Team**  \n",
       "Are you looking to make an impact in the travel industry? Airbnb offers a plethora of career opportunities for talented individuals who are passionate about travel and hospitality.\n",
       "\n",
       "[Explore Career Opportunities](https://airbnb.com/careers)\n",
       "\n",
       "---\n",
       "\n",
       "**Stay In Touch**  \n",
       "Have questions? Our team is here to assist you! Feel free to reach out to us anytime.\n",
       "\n",
       "[Contact Us](https://airbnb.com/help/home?from=footer)\n",
       "\n",
       "---\n",
       "\n",
       "**Connect with Us**  \n",
       "Stay updated with the latest from Airbnb. Follow us on our social media platforms:  \n",
       "- [Facebook](https://www.facebook.com/airbnb)  \n",
       "- [Twitter](https://twitter.com/airbnb)  \n",
       "- [Instagram](https://instagram.com/airbnb)  \n",
       "\n",
       "---\n",
       "\n",
       "**For the Latest News**  \n",
       "Curious about what's happening at Airbnb? Check out our press releases for the latest updates and insights.\n",
       "\n",
       "[Airbnb Press News](https://airbnb.com/press/news)\n",
       "\n",
       "---\n",
       "\n",
       "**Investors**  \n",
       "Interested in learning more about our company from an investment perspective? Dive into our resources designed for current and prospective investors.\n",
       "\n",
       "[Investor Information](https://investors.airbnb.com)\n",
       "\n",
       "---\n",
       "\n",
       "**Visit Us**  \n",
       "Explore what Airbnb has to offer at our official website:\n",
       "\n",
       "[Visit Airbnb](https://airbnb.com)\n",
       "\n",
       "---\n",
       "\n",
       "Join us at Airbnb as we redefine travel and hospitality, creating unforgettable experiences for millions around the world! \n",
       "\n",
       "---"
      ],
      "text/plain": [
       "<IPython.core.display.Markdown object>"
      ]
     },
     "metadata": {},
     "output_type": "display_data"
    }
   ],
   "source": [
    "brochure = get_brochure(links3)\n",
    "display(Markdown(brochure))"
   ]
  },
  {
   "cell_type": "code",
   "execution_count": 159,
   "id": "59a96908-484c-4731-948f-0230283d512d",
   "metadata": {},
   "outputs": [
    {
     "data": {
      "text/markdown": [
       "---\n",
       "\n",
       "**Welcome to GTSIG: The Future of Innovation**\n",
       "\n",
       "At GTSIG, we are dedicated to pioneering innovative solutions that drive progress and foster growth in various industries. Whether you're a potential client seeking cutting-edge services, a talented professional looking to join a dynamic team, or a stakeholder interested in collaboration opportunities, GTSIG is the place for you.\n",
       "\n",
       "**Our Vision**\n",
       "\n",
       "GTSIG strives for excellence in delivering tailored solutions that meet the diverse needs of our clients. We believe in the power of teamwork, creativity, and technology to transform ideas into reality.\n",
       "\n",
       "**Explore Our Services**\n",
       "\n",
       "From consulting to technology solutions, we provide a comprehensive range of services designed to propel your business forward. Our team of experts is here to guide you through every step of your project, ensuring optimal results and satisfaction.\n",
       "\n",
       "**Join Our Team**\n",
       "\n",
       "Looking to elevate your career? At GTSIG, we prioritize a culture of innovation, growth, and collaboration. We are on the lookout for talented individuals eager to make an impact in their field. Being a part of our team means contributing to meaningful projects while being supported in your professional development.\n",
       "\n",
       "**Connect with Us**\n",
       "\n",
       "Stay connected and get to know us better:\n",
       "\n",
       "- Visit our website: [GTSIG Official Website](https://gtsig.eu)\n",
       "- Connect with George T.: [George T.'s Professional Page](https://gtsig.eu)\n",
       "- Follow Giorgos Tsigourakos on LinkedIn: [LinkedIn Profile](https://www.linkedin.com/in/giorgos-tsigourakos/)\n",
       "- Check out our projects on GitHub: [GitHub Profile](https://github.com/tsigouris007)\n",
       "\n",
       "**Get in Touch!**\n",
       "\n",
       "Discover how GTSIG can empower your organization today. We look forward to collaborating with you!\n",
       "\n",
       "---\n",
       "\n",
       "**GTSIG - Innovate. Transform. Succeed.**"
      ],
      "text/plain": [
       "<IPython.core.display.Markdown object>"
      ]
     },
     "metadata": {},
     "output_type": "display_data"
    }
   ],
   "source": [
    "brochure = get_brochure(links1, _stream=True)"
   ]
  },
  {
   "cell_type": "code",
   "execution_count": 160,
   "id": "0ce39b08-f7b0-4cef-bce5-254ecb7d1f97",
   "metadata": {},
   "outputs": [
    {
     "data": {
      "text/markdown": [
       "# Discover Airbnb\n",
       "\n",
       "Welcome to **Airbnb**, where we connect travelers with unique accommodations around the globe. Explore a world of possibilities and make unforgettable memories with us!\n",
       "\n",
       "## 🌍 About Us\n",
       "At Airbnb, our mission is to create a world where anyone can belong anywhere. We offer travelers an array of unique lodging options, from cozy cabins to luxurious villas, making every journey memorable.\n",
       "\n",
       "**Learn more about our mission:** [About Airbnb](https://airbnb.com/press/news)\n",
       "\n",
       "## 💼 Career Opportunities\n",
       "Join our dynamic team and be part of something great! We are constantly searching for passionate individuals to help us redefine travel.\n",
       "\n",
       "**Browse job opportunities:** [Career at Airbnb](https://airbnb.com/careers)\n",
       "\n",
       "## 📞 Contact Us\n",
       "Need assistance? Our dedicated support team is here to help you with any questions or concerns.\n",
       "\n",
       "**Get support:** [Contact Airbnb](https://airbnb.com/help)\n",
       "\n",
       "## 🌐 Connect with Us\n",
       "Stay updated and join our vibrant community! Follow us on our social media platforms:\n",
       "\n",
       "- [Facebook](https://www.facebook.com/airbnb)\n",
       "- [Twitter](https://twitter.com/airbnb)\n",
       "- [Instagram](https://instagram.com/airbnb)\n",
       "\n",
       "## 🤝 Join the Community\n",
       "Enhance your experience by connecting with like-minded individuals. Our community platform offers support and insights from fellow travelers and hosts.\n",
       "\n",
       "**Join the Airbnb Community:** [Community Center](https://community.withairbnb.com/t5/Community-Center/ct-p/community-center)\n",
       "\n",
       "---\n",
       "\n",
       "**Discover your next adventure with Airbnb.** Visit our website for more information: [Visit Airbnb](https://airbnb.com)"
      ],
      "text/plain": [
       "<IPython.core.display.Markdown object>"
      ]
     },
     "metadata": {},
     "output_type": "display_data"
    }
   ],
   "source": [
    "brochure = get_brochure(links2, _stream=True)"
   ]
  },
  {
   "cell_type": "code",
   "execution_count": 194,
   "id": "3b63ba84-621b-4aab-8d3f-437cad9edeba",
   "metadata": {},
   "outputs": [
    {
     "data": {
      "text/markdown": [
       "# Welcome to Skroutz\n",
       "\n",
       "## Your Online Marketplace for Products\n",
       "\n",
       "Discover an endless variety of products at competitive prices with Skroutz, your go-to online marketplace where convenience meets quality.\n",
       "\n",
       "### Why Choose Skroutz?\n",
       "\n",
       "- **Wide Selection**: Explore millions of products across various categories, ensuring you find exactly what you need.\n",
       "- **Best Prices**: Compare prices from different sellers to get the best deals.\n",
       "- **User-Friendly Experience**: Enjoy a seamless browsing and purchasing process tailored to your needs.\n",
       "- **Customer Reviews**: Make informed decisions based on real customer reviews and ratings.\n",
       "\n",
       "### Join Us!\n",
       "\n",
       "At Skroutz, we believe in innovation and customer satisfaction. Be part of our journey as we redefine online shopping!\n",
       "\n",
       "### Explore More\n",
       "\n",
       "Learn more about us and start shopping today!  \n",
       "[Visit our website](https://www.skroutz.gr)\n",
       "\n",
       "---\n",
       "\n",
       "Thank you for considering Skroutz! Together, let's shape the future of online shopping."
      ],
      "text/plain": [
       "<IPython.core.display.Markdown object>"
      ]
     },
     "metadata": {},
     "output_type": "display_data"
    }
   ],
   "source": [
    "brochure_maker(\"https://www.skroutz.gr\")"
   ]
  },
  {
   "cell_type": "code",
   "execution_count": 173,
   "id": "4f098b7e-524e-4f83-a65a-e27b71dd194e",
   "metadata": {},
   "outputs": [
    {
     "data": {
      "text/plain": [
       "{'links': ['{\"type\": \"base_url\", \"description\": \"Company website\", \"url\": \"https://gtsig.eu\"}',\n",
       "  '{\"type\": \"name\", \"description\": \"George T.. company name\", \"name\": \"GTSIG\"}',\n",
       "  '{\"type\": \"About\", \"description\": \"Information about the company\", \"url\": \"https://gtsig.eu/about\"}',\n",
       "  '{\"type\": \"Company\", \"description\": \"General information about GTSIG\", \"url\": \"https://gtsig.eu/company\"}',\n",
       "  '{\"type\": \"Career\", \"description\": \"Information on job opportunities at GTSIG\", \"url\": \"https://gtsig.eu/career\"}',\n",
       "  '{\"type\": \"Jobs\", \"description\": \"List of available jobs at GTSIG\", \"url\": \"https://gtsig.eu/jobs\"}',\n",
       "  '{\"type\": \"Contact\", \"description\": \"Way to contact the company\", \"url\": \"https://gtsig.eu/contact\"}',\n",
       "  '{\"type\": \"Social\", \"description\": \"Links to social media profiles of GTSIG\", \"url\": \"https://gtsig.eu/social\"}',\n",
       "  '{\"type\": \"Physical Taste\", \"description\": \"Information about food and beverage services\", \"url\": \"https://physicaltaste.gr\"}',\n",
       "  '{\"type\": \"Imikrimas Poli\", \"description\": \"Information about wellness services\", \"url\": \"https://imikrimaspoli.gr\"}',\n",
       "  '{\"type\": \"Rosacolorato\", \"description\": \"Information about beauty services\", \"url\": \"https://rosacolorato.gr\"}',\n",
       "  '{\"type\": \"Cavakolokouras\", \"description\": \"Information about wellness services\", \"url\": \"https://cavakolokouras.gr\"}',\n",
       "  '{\"type\": \"Marmoris Fitness\", \"description\": \"Information about fitness services\", \"url\": \"https://marmorisfitness.gr/\"}',\n",
       "  '{\"type\": \"Alissa by Niki Mykonos\", \"description\": \"Information about accommodation services\", \"url\": \"https://alissachnimykonos.com\"}',\n",
       "  '{\"type\": \"Alissa by Niki Side\", \"description\": \"Information about accommodation services\", \"url\": \"https://alissachniseaside.com\"}',\n",
       "  '{\"type\": \"MD Studio\", \"description\": \"Information about design services\", \"url\": \"https://mdstudio.gr\"}',\n",
       "  '{\"type\": \"Diatasi\", \"description\": \"Information about consulting services\", \"url\": \"https://diatasi.gr\"}',\n",
       "  '{\"type\": \"Politismos\", \"description\": \"Information about politics and governance\", \"url\": \"https://politismos.dimosbyrona.gr\"}',\n",
       "  '{\"type\": \"Wonder Food Land\", \"description\": \"Information about food services\", \"url\": \"https://www.wonderfoodland.gr\"}',\n",
       "  '{\"type\": \"Beer Pack\", \"description\": \"Information about beverage services\", \"url\": \"https://beerpack.gr\"}',\n",
       "  '{\"type\": \"Nick\\'s Voice\", \"description\": \"Information about music and audio services\", \"url\": \"https://nicksvoice.gr\"}',\n",
       "  '{\"type\": \"Kostas Maragos\", \"description\": \"Information about consulting services\", \"url\": \"https://kostasmaragos.com\"}',\n",
       "  '{\"type\": \"Primamateria Therapeutica\", \"description\": \"Information about healthcare services\", \"url\": \"https://primamateriatherapeutica.gr\"}',\n",
       "  '{\"type\": \"George T.. LinkedIn profile\", \"description\": \"Company founder\\'s LinkedIn profile\", \"url\": \"https://www.linkedin.com/in/giorgos-tsigourakos/\"}',\n",
       "  '{\"type\": \"tsigouris007 GitHub profile\", \"description\": \"Company developer\\'s GitHub profile\", \"url\": \"https://github.com/tsigouris007\"}',\n",
       "  '{\"type\": \"MyPortal Europisti\", \"description\": \"Information about government services\", \"url\": \"https://myportal.europisti.gr\"}',\n",
       "  '{\"type\": \"My Services Europisti\", \"description\": \"Information about public services\", \"url\": \"https://myservices.europisti.gr\"}',\n",
       "  '{\"type\": \"My Policy Europisti\", \"description\": \"Information about policy and regulations\", \"url\": \"https://mypolicy.europisti.gr\"}']}"
      ]
     },
     "execution_count": 173,
     "metadata": {},
     "output_type": "execute_result"
    }
   ],
   "source": [
    "links4 = get_links_oss(\"https://gtsig.eu\")\n",
    "links4"
   ]
  },
  {
   "cell_type": "code",
   "execution_count": 183,
   "id": "eb76fd26-15fb-4eb9-82e1-686f7b3b22af",
   "metadata": {},
   "outputs": [
    {
     "data": {
      "text/markdown": [
       "# About GTSIG\n",
       "================\n",
       "\n",
       "At GTSIG, we are dedicated to providing innovative solutions for a better tomorrow. Our company is built on the principles of quality, integrity, and excellence.\n",
       "\n",
       "## Our Services\n",
       "---------------\n",
       "\n",
       "We offer a wide range of services that cater to different needs and preferences. Below, you will find an overview of our services:\n",
       "\n",
       "### **Food and Beverage**\n",
       "\n",
       "*   [Wonder Food Land](https://www.wonderfoodland.gr): Experience the art of food and wine at its finest.\n",
       "*   [Beer Pack](https://beerpack.gr): Discover a world of craft beers and delicious snacks.\n",
       "\n",
       "### **Wellness and Health**\n",
       "\n",
       "*   [Imikrimas Poli](https://imikrimaspoli.gr)\n",
       "*   [Primamateria Therapeutica](https://primamateriatherapeutica.gr)\n",
       "\n",
       "### **Beauty and Wellness**\n",
       "\n",
       "*   [Rosacolorato](https://rosacolorato.gr)\n",
       "*   [Cavakolokouras](https://cavakolokouras.gr)\n",
       "\n",
       "### **Fitness and Sports**\n",
       "\n",
       "*   [Marmoris Fitness](https://marmorisfitness.gr/)\n",
       "\n",
       "### **Accommodation and Tourism**\n",
       "\n",
       "*   [Alissa by Niki Mykonos](https://alissachnimykonos.com)\n",
       "*   [Alissa by Niki Side](https://alissachniseaside.com)\n",
       "\n",
       "### **Design and Consulting**\n",
       "\n",
       "*   [MD Studio](https://mdstudio.gr)\n",
       "*   [Diatasi](https://diatasi.gr)\n",
       "\n",
       "## About Us\n",
       "----------\n",
       "\n",
       "Our company is built on the values of innovation, quality, and customer satisfaction. Our founder, Giorgos Tsigourakos, has a strong vision for creating a better future through technology and design.\n",
       "\n",
       "### **Meet our Team**\n",
       "\n",
       "*   [George T.. LinkedIn profile](https://www.linkedin.com/in/giorgos-tsigourakos/): Learn more about our founder's journey.\n",
       "*   [tsigouris007 GitHub profile](https://github.com/tsigouris007): Explore our team's projects and contributions.\n",
       "\n",
       "## Get in Touch\n",
       "----------------\n",
       "\n",
       "Ready to learn more or get started? We are here to help. Please feel free to reach out to us at:\n",
       "\n",
       "[Company Website](https://gtsig.eu)\n",
       "\n",
       "### **Stay Connected**\n",
       "\n",
       "Follow us on social media for the latest updates, news, and promotions:\n",
       "\n",
       "*   [LinkedIn](https://www.linkedin.com/company/gtsig/)\n",
       "*   [GitHub](https://github.com/tsigouris007)\n",
       "*   [Twitter](https://twitter.com/gtsig)"
      ],
      "text/plain": [
       "<IPython.core.display.Markdown object>"
      ]
     },
     "metadata": {},
     "output_type": "display_data"
    }
   ],
   "source": [
    "brochure = get_brochure_oss(links4)\n",
    "display(Markdown(brochure))"
   ]
  },
  {
   "cell_type": "code",
   "execution_count": 190,
   "id": "f7677084-ba5f-4425-a6ae-56edcdc15e0c",
   "metadata": {},
   "outputs": [
    {
     "data": {
      "text/markdown": [
       "# Welcome to GTSIG\n",
       "=====================================\n",
       "\n",
       "[Company Website](https://gtsig.eu)\n",
       "\n",
       "GTSIG is a company dedicated to providing innovative solutions in various sectors. We are committed to excellence and customer satisfaction.\n",
       "\n",
       "## About Us\n",
       "-------------\n",
       "\n",
       "Learn more about our history, mission, and values at [About Us](https://gtsig.eu/about).\n",
       "\n",
       "## Services\n",
       "----------\n",
       "\n",
       "We offer a wide range of services including:\n",
       "\n",
       "*   [Imikrimas Poli](https://imikrimaspoli.gr) - Wellness Services\n",
       "*   [Rosacolorato](https://rosacolorato.gr) - Beauty Services\n",
       "*   [Cavakolokouras](https://cavakolokouras.gr) - Wellness Services\n",
       "*   [Marmoris Fitness](https://marmorisfitness.gr/) - Fitness Services\n",
       "*   [Alissa by Niki Mykonos](https://alissachnimykonos.com) - Accommodation Services\n",
       "*   [Alissa by Niki Side](https://alissachniseaside.com) - Accommodation Services\n",
       "*   [MD Studio](https://mdstudio.gr) - Design Services\n",
       "*   [Diatasi](https://diatasi.gr) - Consulting Services\n",
       "*   [Politismos](https://politismos.dimosbyrona.gr) - Politics and Governance\n",
       "*   [Wonder Food Land](https://www.wonderfoodland.gr) - Food Services\n",
       "*   [Beer Pack](https://beerpack.gr) - Beverage Services\n",
       "*   [Nick's Voice](https://nicksvoice.gr) - Music and Audio Services\n",
       "*   [Kostas Maragos](https://kostasmaragos.com) - Consulting Services\n",
       "*   [Primamateria Therapeutica](https://primamateriatherapeutica.gr) - Healthcare Services\n",
       "\n",
       "## Contact Us\n",
       "--------------\n",
       "\n",
       "Get in touch with us at [Contact Us](https://gtsig.eu/contact).\n",
       "\n",
       "## Social Media\n",
       "---------------\n",
       "\n",
       "Follow us on social media at:\n",
       "\n",
       "[Company LinkedIn Profile](https://www.linkedin.com/in/giorgos-tsigourakos/)\n",
       "[Company GitHub Profile](https://github.com/tsigouris007)\n",
       "[Social Media Profiles](https://gtsig.eu/social)\n",
       "\n",
       "## Physical Taste\n",
       "-----------------\n",
       "\n",
       "Learn more about our food and beverage services at [Physical Taste](https://physicaltaste.gr).\n",
       "\n",
       "## Imikrimas Poli\n",
       "----------------\n",
       "\n",
       "Discover the benefits of our wellness services at [Imikrimas Poli](https://imikrimaspoli.gr)."
      ],
      "text/plain": [
       "<IPython.core.display.Markdown object>"
      ]
     },
     "metadata": {},
     "output_type": "display_data"
    }
   ],
   "source": [
    "brochure = get_brochure_oss(links4, _stream=True)"
   ]
  },
  {
   "cell_type": "code",
   "execution_count": 193,
   "id": "183b3d14-cb0a-43a2-9f84-62972e80b641",
   "metadata": {},
   "outputs": [
    {
     "data": {
      "text/markdown": [
       "# Welcome to Our Company\n",
       "=====================================\n",
       "\n",
       "We are a leading provider of unique and cozy accommodations, offering stunning experiences in the United States, United Kingdom, and Australia.\n",
       "\n",
       "**Our Story**\n",
       "---------------\n",
       "\n",
       "At [Company Name], we believe that everyone deserves a comfortable and memorable stay. We curate a selection of the most impressive cabins, yurts, and other unique abodes, all handpicked to provide an unforgettable experience for our guests.\n",
       "\n",
       "**Discover Our Accommodations**\n",
       "------------------------------\n",
       "\n",
       "*   **United States: Stays in Cabins** - Explore the best of America's great outdoors with our curated collection of cozy cabins. From the mountains to the coastlines, we've got you covered.\n",
       "    [Learn More](https://airbnb.com/united-states/stays/cabins)\n",
       "*   **United Kingdom: Stays in Yurts** - Experience the magic of the British countryside with our selection of rustic yurts. Perfect for nature lovers and adventure seekers alike.\n",
       "    [Discover Now](https://airbnb.com/united-kingdom/stays/yurts)\n",
       "*   **Australia: Stays in Cabins** - Down under, we offer a unique blend of tropical getaways and rugged wilderness adventures in our beautifully crafted cabins.\n",
       "    [Explore Our Options](https://airbnb.com/australia/stays/cabins)\n",
       "\n",
       "# Join the Adventure\n",
       "---------------------\n",
       "\n",
       "Whether you're planning a family vacation, a romantic getaway, or an adventure with friends, we invite you to experience the best of travel with us. Book your stay today and create unforgettable memories!"
      ],
      "text/plain": [
       "<IPython.core.display.Markdown object>"
      ]
     },
     "metadata": {},
     "output_type": "display_data"
    },
    {
     "data": {
      "text/plain": [
       "\"# Welcome to Our Company\\n=====================================\\n\\nWe are a leading provider of unique and cozy accommodations, offering stunning experiences in the United States, United Kingdom, and Australia.\\n\\n**Our Story**\\n---------------\\n\\nAt [Company Name], we believe that everyone deserves a comfortable and memorable stay. We curate a selection of the most impressive cabins, yurts, and other unique abodes, all handpicked to provide an unforgettable experience for our guests.\\n\\n**Discover Our Accommodations**\\n------------------------------\\n\\n*   **United States: Stays in Cabins** - Explore the best of America's great outdoors with our curated collection of cozy cabins. From the mountains to the coastlines, we've got you covered.\\n    [Learn More](https://airbnb.com/united-states/stays/cabins)\\n*   **United Kingdom: Stays in Yurts** - Experience the magic of the British countryside with our selection of rustic yurts. Perfect for nature lovers and adventure seekers alike.\\n    [Discover Now](https://airbnb.com/united-kingdom/stays/yurts)\\n*   **Australia: Stays in Cabins** - Down under, we offer a unique blend of tropical getaways and rugged wilderness adventures in our beautifully crafted cabins.\\n    [Explore Our Options](https://airbnb.com/australia/stays/cabins)\\n\\n# Join the Adventure\\n---------------------\\n\\nWhether you're planning a family vacation, a romantic getaway, or an adventure with friends, we invite you to experience the best of travel with us. Book your stay today and create unforgettable memories!\""
      ]
     },
     "execution_count": 193,
     "metadata": {},
     "output_type": "execute_result"
    }
   ],
   "source": [
    "brochure_maker_oss(\"https://airbnb.com\", selenium=True)"
   ]
  },
  {
   "cell_type": "code",
   "execution_count": 192,
   "id": "a4def3da-c230-4981-9e47-03bf9cdcb8ab",
   "metadata": {},
   "outputs": [
    {
     "data": {
      "text/markdown": [
       "# Welcome to Skroutz Online Travel Agency\n",
       "=====================================\n",
       "\n",
       "[Company Website](https://www.skroutz.gr)\n",
       "\n",
       "Skroutz is an online travel agency that offers a wide range of travel services, including flights, hotels, packages, car rentals, and more. Our mission is to provide our customers with the best possible travel experiences at competitive prices.\n",
       "\n",
       "### About Us\n",
       "--------\n",
       "\n",
       "[Learn about Skroutz and our mission](https://www.skroutz.gr/en/about/)\n",
       "\n",
       "At Skroutz, we are committed to providing exceptional customer service and building long-lasting relationships with our clients. Our team of experts is dedicated to helping you plan your dream vacation.\n",
       "\n",
       "### What We Offer\n",
       "---------------\n",
       "\n",
       "* [Flights](https://www.skroutz.gr/flights/)\n",
       "* [Hotels](https://www.skroutz.gr/hotels/)\n",
       "* [Packages](https://www.skroutz.gr/packages/)\n",
       "* [Car Rental](https://www.skroutz.gr/car-rental/) (Coming soon!)\n",
       "* [Cruise Holidays](https://www.skroutz.gr/cruise-holidays/) (Coming soon!)\n",
       "* [Travel Insurance](https://www.skroutz.gr/travel-insurance/) (Coming soon!)\n",
       "* [Travel Guides](https://www.skroutz.gr/travel-guides/) (Coming soon!)\n",
       "\n",
       "### How to Contact Us\n",
       "--------------------\n",
       "\n",
       "* [Contact Form](https://www.skroutz.gr/contact-form/)\n",
       "* [Email](mailto:info@skroutz.gr)\n",
       "* [Phone](+30 210 333 6666)\n",
       "\n",
       "### Stay in Touch\n",
       "---------------\n",
       "\n",
       "Follow us on social media:\n",
       "\n",
       "[Facebook](https://www.facebook.com/skroutzgr) | [Twitter](https://twitter.com/SkroutzGR) | [Instagram](https://www.instagram.com/skroutz.gr)\n",
       "\n",
       "# Join Our Community\n",
       "---------------------\n",
       "\n",
       "Stay up-to-date with the latest news and offers from Skroutz. Subscribe to our newsletter today!\n",
       "\n",
       "[Subscribe Now](https://www.skroutz.gr/newsletter/)"
      ],
      "text/plain": [
       "<IPython.core.display.Markdown object>"
      ]
     },
     "metadata": {},
     "output_type": "display_data"
    },
    {
     "data": {
      "text/plain": [
       "'# Welcome to Skroutz Online Travel Agency\\n=====================================\\n\\n[Company Website](https://www.skroutz.gr)\\n\\nSkroutz is an online travel agency that offers a wide range of travel services, including flights, hotels, packages, car rentals, and more. Our mission is to provide our customers with the best possible travel experiences at competitive prices.\\n\\n### About Us\\n--------\\n\\n[Learn about Skroutz and our mission](https://www.skroutz.gr/en/about/)\\n\\nAt Skroutz, we are committed to providing exceptional customer service and building long-lasting relationships with our clients. Our team of experts is dedicated to helping you plan your dream vacation.\\n\\n### What We Offer\\n---------------\\n\\n* [Flights](https://www.skroutz.gr/flights/)\\n* [Hotels](https://www.skroutz.gr/hotels/)\\n* [Packages](https://www.skroutz.gr/packages/)\\n* [Car Rental](https://www.skroutz.gr/car-rental/) (Coming soon!)\\n* [Cruise Holidays](https://www.skroutz.gr/cruise-holidays/) (Coming soon!)\\n* [Travel Insurance](https://www.skroutz.gr/travel-insurance/) (Coming soon!)\\n* [Travel Guides](https://www.skroutz.gr/travel-guides/) (Coming soon!)\\n\\n### How to Contact Us\\n--------------------\\n\\n* [Contact Form](https://www.skroutz.gr/contact-form/)\\n* [Email](mailto:info@skroutz.gr)\\n* [Phone](+30 210 333 6666)\\n\\n### Stay in Touch\\n---------------\\n\\nFollow us on social media:\\n\\n[Facebook](https://www.facebook.com/skroutzgr) | [Twitter](https://twitter.com/SkroutzGR) | [Instagram](https://www.instagram.com/skroutz.gr)\\n\\n# Join Our Community\\n---------------------\\n\\nStay up-to-date with the latest news and offers from Skroutz. Subscribe to our newsletter today!\\n\\n[Subscribe Now](https://www.skroutz.gr/newsletter/)'"
      ]
     },
     "execution_count": 192,
     "metadata": {},
     "output_type": "execute_result"
    }
   ],
   "source": [
    "brochure_maker_oss(\"https://www.skroutz.gr\")"
   ]
  }
 ],
 "metadata": {
  "kernelspec": {
   "display_name": "Python 3 (ipykernel)",
   "language": "python",
   "name": "python3"
  },
  "language_info": {
   "codemirror_mode": {
    "name": "ipython",
    "version": 3
   },
   "file_extension": ".py",
   "mimetype": "text/x-python",
   "name": "python",
   "nbconvert_exporter": "python",
   "pygments_lexer": "ipython3",
   "version": "3.11.13"
  }
 },
 "nbformat": 4,
 "nbformat_minor": 5
}
