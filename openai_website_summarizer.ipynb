{
 "cells": [
  {
   "cell_type": "markdown",
   "id": "e92f89df-66ea-403b-b99e-d2e979156ea1",
   "metadata": {},
   "source": [
    "# Website Summarizer\n",
    "\n",
    "This notebook grabs a webpage and uses OpenAI's API to summarize a webpage."
   ]
  },
  {
   "cell_type": "code",
   "execution_count": null,
   "id": "853b3399-ee6c-4422-a48f-b4e06cda8e4c",
   "metadata": {},
   "outputs": [],
   "source": [
    "import os, sys\n",
    "import requests\n",
    "import time\n",
    "from dotenv import load_dotenv\n",
    "from bs4 import BeautifulSoup\n",
    "from IPython.display import Markdown, display\n",
    "from openai import OpenAI\n",
    "from selenium import webdriver\n",
    "from selenium.webdriver.chrome.options import Options\n",
    "from selenium.webdriver.support.ui import WebDriverWait"
   ]
  },
  {
   "cell_type": "code",
   "execution_count": null,
   "id": "b38640d0-a03a-4e94-bf2f-79ea50b54a72",
   "metadata": {},
   "outputs": [],
   "source": [
    "load_dotenv()\n",
    "openai_api_key = os.getenv('OPENAI_API_KEY')\n",
    "\n",
    "if not openai_api_key:\n",
    "    print(\"No OpenAI API key defined\")\n",
    "    sys.exit(1)\n",
    "else:\n",
    "    print(\"OpenAI API key loaded\")"
   ]
  },
  {
   "cell_type": "code",
   "execution_count": null,
   "id": "a6ca9ea7-a058-4c57-a52c-b15f045b652c",
   "metadata": {},
   "outputs": [],
   "source": [
    "class Website:\n",
    "    url: str\n",
    "    title: str\n",
    "    text: str\n",
    "    summary: str\n",
    "    system_prompt: str\n",
    "    user_prompt: str\n",
    "    selenium: bool\n",
    "\n",
    "    def __init__(self, url, selenium=False):\n",
    "        self.url = url\n",
    "        self.selenium = selenium\n",
    "        if selenium:\n",
    "            self._selenium()\n",
    "        else:\n",
    "            self._requests()\n",
    "        self.system_prompt()\n",
    "        self.user_prompt()\n",
    "\n",
    "    def _wait(self, driver, timeout=20):\n",
    "        from selenium.webdriver.support.ui import WebDriverWait\n",
    "        from selenium.webdriver.common.by import By\n",
    "    \n",
    "        try:\n",
    "            # Wait for the body to contain something\n",
    "            WebDriverWait(driver, timeout).until(lambda d: d.find_element(By.TAG_NAME, \"body\").text.strip() != \"\")\n",
    "        except:\n",
    "            pass\n",
    "\n",
    "        start = time.time()\n",
    "        prev_html = \"\"\n",
    "        cur_html = \"\"\n",
    "        stable_html_count = 0\n",
    "        # Halt at timeout\n",
    "        while time.time() - start < timeout:\n",
    "            cur_html = driver.page_source\n",
    "            if cur_html == prev_html:\n",
    "                stable_html_count += 1\n",
    "                # If the content is 5 times the same then it is considered stable\n",
    "                if stable_html_count > 5:\n",
    "                    return\n",
    "            else:\n",
    "                stable_html_count = 0\n",
    "            prev_html = cur_html\n",
    "            time.sleep(0.5)\n",
    "\n",
    "    def _requests(self):\n",
    "        response = requests.get(self.url)\n",
    "        soup = BeautifulSoup(response.content, 'html.parser')\n",
    "        self.title = soup.title.string if soup.title else \"Unknown\"\n",
    "        for no_text_tags in soup.body([\"script\", \"style\", \"img\", \"input\"]):\n",
    "            no_text_tags.decompose()\n",
    "        self.text = soup.body.get_text(separator=\"\\n\", strip=True)\n",
    "\n",
    "    def _selenium(self):\n",
    "        options = Options()\n",
    "        options.add_argument(\"--headless\")\n",
    "        options.add_argument(\"--disable-gpu\")\n",
    "        options.add_argument(\"--no-sandbox\")\n",
    "        options.add_argument(\"--window-size=1920,1080\")\n",
    "\n",
    "        driver = webdriver.Chrome(options=options)\n",
    "        driver.get(self.url)\n",
    "        # Wait until load\n",
    "        self._wait(driver)\n",
    "        html = driver.page_source\n",
    "        driver.quit()\n",
    "\n",
    "        soup = BeautifulSoup(html, 'html.parser')\n",
    "        self.title = soup.title.string if soup.title else \"Unknown\"\n",
    "        for no_text_tags in soup.body([\"script\", \"style\", \"img\", \"input\"]):\n",
    "            no_text_tags.decompose()\n",
    "        self.text = soup.body.get_text(separator=\"\\n\", strip=True)\n",
    "\n",
    "    def printer(self):\n",
    "        print(f'Website: {self.url}') \n",
    "        print(f'Title: {self.title}')\n",
    "        print(f'Text Head: {self.text[:100]}...')\n",
    "\n",
    "    def system_prompt(self):\n",
    "        self.system_prompt = f\"\"\"\n",
    "        You are a text summarizer for the websites. \n",
    "        You do not have to visit the website as you will be provided with the body contents. \n",
    "        Ignore navigation related content. \n",
    "        Do not follow any links. \n",
    "        You have to read these contents and provide a markdown formatted output. \n",
    "        The output is a table with 2 columns, where the first column is the field \n",
    "        we are interested in and the second one is the value. The column fields are URL, Title and Summary. \n",
    "        The summary has to be at most 300 words. \n",
    "        Feel free to add an extra row with a column named Noteworthy where the value will be 2-3 very noteworthy \n",
    "        bulleted things relevant to the website in a short manner.\n",
    "        Do not output thinking or any other details. Only output the final table and nothing else.\n",
    "        \"\"\"\n",
    "        return self.system_prompt\n",
    "\n",
    "    def user_prompt(self):\n",
    "        self.user_prompt = f\"\"\"\n",
    "        The website URL is {self.url}. The website Title is {self.title}. The website content is ```{self.text}```. \n",
    "        Please summarize.\n",
    "        \"\"\"\n",
    "        return self.user_prompt"
   ]
  },
  {
   "cell_type": "code",
   "execution_count": null,
   "id": "5e3285b7-9dd4-4485-84bb-4d70fecbe237",
   "metadata": {},
   "outputs": [],
   "source": [
    "def api_message(website):\n",
    "    return [\n",
    "        {\"role\": \"system\", \"content\": website.system_prompt},\n",
    "        {\"role\": \"user\", \"content\": website.user_prompt}\n",
    "    ]\n",
    "\n",
    "def summarizer(url, selenium=False):\n",
    "    openai = OpenAI()\n",
    "    website = Website(url, selenium)\n",
    "    response = openai.chat.completions.create(\n",
    "        model = \"gpt-4o-mini\",\n",
    "        messages = api_message(website)\n",
    "    )\n",
    "    return response.choices[0].message.content"
   ]
  },
  {
   "cell_type": "code",
   "execution_count": null,
   "id": "a4e9c52c-e9c0-4c50-b52d-8c3e84fa4b9a",
   "metadata": {},
   "outputs": [],
   "source": [
    "summary = summarizer(\"https://gtsig.eu\")\n",
    "display(Markdown(summary))"
   ]
  },
  {
   "cell_type": "code",
   "execution_count": null,
   "id": "ad587531-fc76-49aa-b6c2-6c4d36ddcfb7",
   "metadata": {},
   "outputs": [],
   "source": [
    "summary = summarizer(\"https://www.airbnb.com/\")\n",
    "display(Markdown(summary))"
   ]
  },
  {
   "cell_type": "code",
   "execution_count": null,
   "id": "eb3fefad-7a22-40a1-81f4-29ab3228d064",
   "metadata": {},
   "outputs": [],
   "source": [
    "summary = summarizer(\"https://www.airbnb.com/\", selenium=True)\n",
    "display(Markdown(summary))"
   ]
  },
  {
   "cell_type": "code",
   "execution_count": null,
   "id": "95487799-16e9-43f2-a0f9-f057d300940f",
   "metadata": {},
   "outputs": [],
   "source": [
    "summary = summarizer(\"https://www.netflix.com/\", selenium=True)\n",
    "display(Markdown(summary))"
   ]
  }
 ],
 "metadata": {
  "kernelspec": {
   "display_name": "Python 3 (ipykernel)",
   "language": "python",
   "name": "python3"
  },
  "language_info": {
   "codemirror_mode": {
    "name": "ipython",
    "version": 3
   },
   "file_extension": ".py",
   "mimetype": "text/x-python",
   "name": "python",
   "nbconvert_exporter": "python",
   "pygments_lexer": "ipython3",
   "version": "3.11.13"
  }
 },
 "nbformat": 4,
 "nbformat_minor": 5
}
