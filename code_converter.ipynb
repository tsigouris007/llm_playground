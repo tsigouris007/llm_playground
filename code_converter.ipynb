{
 "cells": [
  {
   "cell_type": "markdown",
   "id": "e1ad9348-20e5-49a3-bc0c-ed3e115c1826",
   "metadata": {},
   "source": [
    "# About\n",
    "\n",
    "This notebook reads a file from the file system written in Python and converts it into C++"
   ]
  },
  {
   "cell_type": "code",
   "execution_count": 1,
   "id": "2168fb06-e220-42c2-aea5-f81577e8775f",
   "metadata": {},
   "outputs": [],
   "source": [
    "import os\n",
    "import io\n",
    "import sys\n",
    "from dotenv import load_dotenv\n",
    "from openai import OpenAI\n",
    "import google.generativeai\n",
    "import anthropic\n",
    "from IPython.display import Markdown, display, update_display\n",
    "import subprocess"
   ]
  },
  {
   "cell_type": "code",
   "execution_count": 2,
   "id": "e092536c-444b-40e6-b3bd-e4a89c24ecb5",
   "metadata": {},
   "outputs": [],
   "source": [
    "load_dotenv()\n",
    "\n",
    "OPENAI_API_KEY = os.getenv('OPENAI_API_KEY')\n",
    "if not OPENAI_API_KEY:\n",
    "    print(\"OPENAI_API_KEY not loaded.\")\n",
    "    sys.exit(1)\n",
    "\n",
    "GEMINI_API_KEY = os.getenv('GEMINI_API_KEY')\n",
    "if not GEMINI_API_KEY:\n",
    "    print(\"GEMINI_API_KEY not loaded.\")\n",
    "\n",
    "ANTHROPIC_API_KEY = os.getenv('ANTHROPIC_API_KEY')\n",
    "if not ANTHROPIC_API_KEY:\n",
    "    print(\"ANTHROPIC_API_KEY not loaded.\")"
   ]
  },
  {
   "cell_type": "code",
   "execution_count": 3,
   "id": "3fffd129-c03b-4a0c-82fc-8a63d6d08f96",
   "metadata": {},
   "outputs": [],
   "source": [
    "# Init\n",
    "openai = OpenAI()\n",
    "gemini = google.generativeai.configure()\n",
    "claude = anthropic.Anthropic()\n",
    "\n",
    "OPENAI_MODEL = \"gpt-4o\"\n",
    "GEMINI_MODEL = \"gemini-2.5-flash\"\n",
    "CLAUDE_MODEL = \"claude-3-7-sonnet-20250219\""
   ]
  },
  {
   "cell_type": "code",
   "execution_count": 4,
   "id": "04954d04-56a7-4c9f-95a7-49f2730b89b9",
   "metadata": {},
   "outputs": [],
   "source": [
    "system_prompt = \"\"\"\n",
    "You are a coding assistant that reimplements Python code in high performance C++ code for a low spec laptop.\n",
    "You must follow the next guidelines:\n",
    "- Do not output anything else other than the translated C++ code\n",
    "- Do not provide any explanation or thoughts\n",
    "- Add meaningful but short comments in the code\n",
    "- The C++ output code will have to produce an identical output with the Python code\n",
    "- The C++ output code will have to be efficient and as fast as possible\n",
    "- The C++ output code will have to include all necessary C++ packages such as iostream\n",
    "- The C++ output code will have to produce identical output with the Python code\n",
    "- Pay attention to number types to ensure no numeric overflows when converting\n",
    "- The Python code will always be included between triple ticks ``` and a py markdown notation\n",
    "- The C++ output code will have to be enclosed between triple ticks ``` and a cpp markdown notation\n",
    "\"\"\""
   ]
  },
  {
   "cell_type": "code",
   "execution_count": 5,
   "id": "e27eff7e-feba-4c84-80e5-62be2ec30516",
   "metadata": {},
   "outputs": [],
   "source": [
    "def user_prompt(python_script):\n",
    "    user_prompt = f\"\"\"\n",
    "    Rewrite the following Python code in C++ according to your instructions:\n",
    "    ```py\n",
    "    {python_script}\n",
    "    ```\n",
    "    \"\"\"\n",
    "    return user_prompt"
   ]
  },
  {
   "cell_type": "code",
   "execution_count": 6,
   "id": "108f5dc1-7f63-42fa-8fdd-1895e4c7cb76",
   "metadata": {},
   "outputs": [],
   "source": [
    "def write_output(cpp_script_name, cpp_script):\n",
    "    with open(f\"{os.path.splitext(cpp_script_name)[0]}.cpp\", \"w\") as f:\n",
    "        f.write(cpp_script.replace(\"```cpp\", \"\").replace(\"```\", \"\"))"
   ]
  },
  {
   "cell_type": "code",
   "execution_count": 29,
   "id": "eb6fdef6-28b6-4a61-97f8-5eec9e6a5a87",
   "metadata": {},
   "outputs": [
    {
     "name": "stdout",
     "output_type": "stream",
     "text": [
      "#!/usr/bin/env python3\n",
      "# This is a pi calculation script\n",
      "import time\n",
      "import argparse\n",
      "\n",
      "def calculate(iterations, p1, p2):\n",
      "  result = 1.0\n",
      "  for i in range(1, iterations + 1):\n",
      "    j = i *  p1 - p2\n",
      "    result -= (1/j)\n",
      "    j = i * p1 + p2\n",
      "    result += (1/j)\n",
      "  return result\n",
      "\n",
      "def main():\n",
      "  parser = argparse.ArgumentParser(description=\"Calculate a mathematical series.\")\n",
      "  parser.add_argument('--iterations', type=int, default=100000000, help='Number of iterations to perform')\n",
      "  args = parser.parse_args()\n",
      "\n",
      "  # Use the provided iterations value\n",
      "  iterations = args.iterations\n",
      "  start_time = time.time()\n",
      "  result = calculate(iterations, 4, 1) * 4\n",
      "  end_time = time.time()\n",
      "  print(f\"Result: {result:.12f}\")\n",
      "  print(f\"Execution time: {end_time - start_time:.6f} seconds\")\n",
      "\n",
      "if __name__ == \"__main__\":\n",
      "  main()\n"
     ]
    }
   ],
   "source": [
    "script_dir = \"resources/\"\n",
    "python_script_name = f\"{script_dir}pi_calculator.py\"\n",
    "cpp_script_name_gpt = f\"{script_dir}pi_calculator_gpt.cpp\"\n",
    "cpp_script_name_claude = f\"{script_dir}pi_calculator_claude.cpp\"\n",
    "\n",
    "with open(python_script_name, 'r') as f:\n",
    "    python_script = f.read()\n",
    "\n",
    "!cat resources/pi_calculator.py"
   ]
  },
  {
   "cell_type": "code",
   "execution_count": 11,
   "id": "9e1170e1-c7f8-460e-8fd9-623024385901",
   "metadata": {},
   "outputs": [],
   "source": [
    "def gpt_convert(python_script):\n",
    "    response = openai.chat.completions.create(\n",
    "        model = OPENAI_MODEL,\n",
    "        messages = [\n",
    "            {\"role\": \"system\", \"content\": system_prompt},\n",
    "            {\"role\": \"user\", \"content\": user_prompt(python_script) }\n",
    "        ]\n",
    "    )\n",
    "    return response.choices[0].message.content"
   ]
  },
  {
   "cell_type": "code",
   "execution_count": 15,
   "id": "12046bb6-31f2-4a95-95ae-231e7e13d28e",
   "metadata": {},
   "outputs": [],
   "source": [
    "gpt_output = gpt_convert(python_script)"
   ]
  },
  {
   "cell_type": "code",
   "execution_count": 41,
   "id": "54f7c573-dfb6-4ac5-898b-8c7582851718",
   "metadata": {},
   "outputs": [],
   "source": [
    "def claude_convert(python_script):\n",
    "    message = claude.messages.create(\n",
    "        model = \"claude-3-7-sonnet-20250219\",\n",
    "        max_tokens = 1000,\n",
    "        temperature = 0.7,\n",
    "        system = system_prompt,\n",
    "        messages = [\n",
    "            { \"role\": \"user\", \"content\": user_prompt(python_script) }\n",
    "        ]\n",
    "    )\n",
    "    return message.content[0].text"
   ]
  },
  {
   "cell_type": "code",
   "execution_count": 42,
   "id": "bb7dab64-8c10-4b29-8877-dcb5e3e8e217",
   "metadata": {},
   "outputs": [],
   "source": [
    "claude_output = claude_convert(python_script)"
   ]
  },
  {
   "cell_type": "code",
   "execution_count": 30,
   "id": "56ad1f99-a552-4567-b137-fa34987072a0",
   "metadata": {},
   "outputs": [
    {
     "name": "stdout",
     "output_type": "stream",
     "text": [
      "\n",
      "```cpp\n",
      "#include <iostream>\n",
      "#include <chrono>\n",
      "#include <cmath>\n",
      "\n",
      "// Function to calculate the series using iterations, p1, and p2\n",
      "double calculate(int iterations, int p1, int p2) {\n",
      "    double result = 1.0;\n",
      "    for (int i = 1; i <= iterations; ++i) {\n",
      "        double j = i * p1 - p2;\n",
      "        result -= (1.0 / j);\n",
      "        j = i * p1 + p2;\n",
      "        result += (1.0 / j);\n",
      "    }\n",
      "    return result;\n",
      "}\n",
      "\n",
      "int main(int argc, char *argv[]) {\n",
      "    int iterations = 100000000; // Default number of iterations\n",
      "    if (argc > 1) {\n",
      "        iterations = std::stoi(argv[1]); // Read iterations from command line arguments if provided\n",
      "    }\n",
      "\n",
      "    auto start_time = std::chrono::high_resolution_clock::now(); // Start timing\n",
      "    double result = calculate(iterations, 4, 1) * 4; // Call calculation function\n",
      "    auto end_time = std::chrono::high_resolution_clock::now(); // End timing\n",
      "    std::chrono::duration<double> elapsed = end_time - start_time; // Calculate elapsed time\n",
      "\n",
      "    std::cout.precision(12);\n",
      "    std::cout << \"Result: \" << result << std::endl;\n",
      "    std::cout << \"Execution time: \" << elapsed.count() << \" seconds\" << std::endl; // Output execution time\n",
      "\n",
      "    return 0;\n",
      "}\n",
      "```\n"
     ]
    }
   ],
   "source": [
    "print(gpt_output)"
   ]
  },
  {
   "cell_type": "code",
   "execution_count": 43,
   "id": "09ddd6bd-62f8-45ce-a9f2-da30571a796f",
   "metadata": {},
   "outputs": [
    {
     "name": "stdout",
     "output_type": "stream",
     "text": [
      "```cpp\n",
      "#include <iostream>\n",
      "#include <iomanip>\n",
      "#include <chrono>\n",
      "#include <cstdlib>\n",
      "#include <string>\n",
      "\n",
      "// This is a pi calculation script\n",
      "double calculate(int iterations, int p1, int p2) {\n",
      "    double result = 1.0;\n",
      "    for (int i = 1; i <= iterations; ++i) {\n",
      "        double j = i * p1 - p2;\n",
      "        result -= (1.0/j);\n",
      "        j = i * p1 + p2;\n",
      "        result += (1.0/j);\n",
      "    }\n",
      "    return result;\n",
      "}\n",
      "\n",
      "int main(int argc, char* argv[]) {\n",
      "    // Default iterations\n",
      "    int iterations = 100000000;\n",
      "    \n",
      "    // Parse command line arguments\n",
      "    for (int i = 1; i < argc; ++i) {\n",
      "        std::string arg = argv[i];\n",
      "        if (arg == \"--iterations\" && i + 1 < argc) {\n",
      "            iterations = std::atoi(argv[i + 1]);\n",
      "            i++; // Skip the next argument\n",
      "        }\n",
      "    }\n",
      "    \n",
      "    // Measure execution time\n",
      "    auto start_time = std::chrono::high_resolution_clock::now();\n",
      "    double result = calculate(iterations, 4, 1) * 4;\n",
      "    auto end_time = std::chrono::high_resolution_clock::now();\n",
      "    \n",
      "    // Calculate duration in seconds\n",
      "    std::chrono::duration<double> elapsed = end_time - start_time;\n",
      "    \n",
      "    // Output results with appropriate precision\n",
      "    std::cout << \"Result: \" << std::fixed << std::setprecision(12) << result << std::endl;\n",
      "    std::cout << \"Execution time: \" << std::fixed << std::setprecision(6) \n",
      "              << elapsed.count() << \" seconds\" << std::endl;\n",
      "    \n",
      "    return 0;\n",
      "}\n",
      "```\n"
     ]
    }
   ],
   "source": [
    "print(claude_output)"
   ]
  },
  {
   "cell_type": "code",
   "execution_count": 32,
   "id": "6c060edb-efc8-458f-9548-7ddb67cdfac6",
   "metadata": {},
   "outputs": [
    {
     "name": "stdout",
     "output_type": "stream",
     "text": [
      "\n",
      "\n",
      "#include <iostream>\n",
      "#include <chrono>\n",
      "#include <cmath>\n",
      "\n",
      "// Function to calculate the series using iterations, p1, and p2\n",
      "double calculate(int iterations, int p1, int p2) {\n",
      "    double result = 1.0;\n",
      "    for (int i = 1; i <= iterations; ++i) {\n",
      "        double j = i * p1 - p2;\n",
      "        result -= (1.0 / j);\n",
      "        j = i * p1 + p2;\n",
      "        result += (1.0 / j);\n",
      "    }\n",
      "    return result;\n",
      "}\n",
      "\n",
      "int main(int argc, char *argv[]) {\n",
      "    int iterations = 100000000; // Default number of iterations\n",
      "    if (argc > 1) {\n",
      "        iterations = std::stoi(argv[1]); // Read iterations from command line arguments if provided\n",
      "    }\n",
      "\n",
      "    auto start_time = std::chrono::high_resolution_clock::now(); // Start timing\n",
      "    double result = calculate(iterations, 4, 1) * 4; // Call calculation function\n",
      "    auto end_time = std::chrono::high_resolution_clock::now(); // End timing\n",
      "    std::chrono::duration<double> elapsed = end_time - start_time; // Calculate elapsed time\n",
      "\n",
      "    std::cout.precision(12);\n",
      "    std::cout << \"Result: \" << result << std::endl;\n",
      "    std::cout << \"Execution time: \" << elapsed.count() << \" seconds\" << std::endl; // Output execution time\n",
      "\n",
      "    return 0;\n",
      "}\n"
     ]
    }
   ],
   "source": [
    "write_output(cpp_script_name_gpt, gpt_output)\n",
    "\n",
    "!cat resources/pi_calculator_gpt.cpp"
   ]
  },
  {
   "cell_type": "code",
   "execution_count": 44,
   "id": "89269c41-a0da-444d-9b8d-19520b7a6bb1",
   "metadata": {},
   "outputs": [
    {
     "name": "stdout",
     "output_type": "stream",
     "text": [
      "\n",
      "#include <iostream>\n",
      "#include <iomanip>\n",
      "#include <chrono>\n",
      "#include <cstdlib>\n",
      "#include <string>\n",
      "\n",
      "// This is a pi calculation script\n",
      "double calculate(int iterations, int p1, int p2) {\n",
      "    double result = 1.0;\n",
      "    for (int i = 1; i <= iterations; ++i) {\n",
      "        double j = i * p1 - p2;\n",
      "        result -= (1.0/j);\n",
      "        j = i * p1 + p2;\n",
      "        result += (1.0/j);\n",
      "    }\n",
      "    return result;\n",
      "}\n",
      "\n",
      "int main(int argc, char* argv[]) {\n",
      "    // Default iterations\n",
      "    int iterations = 100000000;\n",
      "    \n",
      "    // Parse command line arguments\n",
      "    for (int i = 1; i < argc; ++i) {\n",
      "        std::string arg = argv[i];\n",
      "        if (arg == \"--iterations\" && i + 1 < argc) {\n",
      "            iterations = std::atoi(argv[i + 1]);\n",
      "            i++; // Skip the next argument\n",
      "        }\n",
      "    }\n",
      "    \n",
      "    // Measure execution time\n",
      "    auto start_time = std::chrono::high_resolution_clock::now();\n",
      "    double result = calculate(iterations, 4, 1) * 4;\n",
      "    auto end_time = std::chrono::high_resolution_clock::now();\n",
      "    \n",
      "    // Calculate duration in seconds\n",
      "    std::chrono::duration<double> elapsed = end_time - start_time;\n",
      "    \n",
      "    // Output results with appropriate precision\n",
      "    std::cout << \"Result: \" << std::fixed << std::setprecision(12) << result << std::endl;\n",
      "    std::cout << \"Execution time: \" << std::fixed << std::setprecision(6) \n",
      "              << elapsed.count() << \" seconds\" << std::endl;\n",
      "    \n",
      "    return 0;\n",
      "}\n"
     ]
    }
   ],
   "source": [
    "write_output(cpp_script_name_claude, claude_output)\n",
    "\n",
    "!cat resources/pi_calculator_claude.cpp"
   ]
  },
  {
   "cell_type": "markdown",
   "id": "9973af56-f11e-49fa-a148-6a7a9d211748",
   "metadata": {},
   "source": [
    "# Compare original with produced script\n",
    "\n",
    "Note: Make sure to have `g++` installed on your system."
   ]
  },
  {
   "cell_type": "code",
   "execution_count": 45,
   "id": "a5e5a61d-7eb1-41d0-ab20-8b2ce5926de0",
   "metadata": {},
   "outputs": [
    {
     "name": "stdout",
     "output_type": "stream",
     "text": [
      "Result: 3.141592658589\n",
      "Execution time: 6.735307 seconds\n"
     ]
    }
   ],
   "source": [
    "!python resources/pi_calculator.py"
   ]
  },
  {
   "cell_type": "code",
   "execution_count": 46,
   "id": "04a739b4-7bd5-42c2-a94f-66a29ea2f2e2",
   "metadata": {},
   "outputs": [
    {
     "name": "stdout",
     "output_type": "stream",
     "text": [
      "Result: 3.14159265859\n",
      "Execution time: 0.423047741 seconds\n"
     ]
    }
   ],
   "source": [
    "!g++ -o resources/pi_calculator_gpt resources/pi_calculator_gpt.cpp\n",
    "!resources/pi_calculator_gpt"
   ]
  },
  {
   "cell_type": "code",
   "execution_count": 47,
   "id": "b0613a90-5e76-47a0-a9c4-0ecbd09858bd",
   "metadata": {},
   "outputs": [
    {
     "name": "stdout",
     "output_type": "stream",
     "text": [
      "Result: 3.141592658589\n",
      "Execution time: 0.427392 seconds\n"
     ]
    }
   ],
   "source": [
    "!g++ -o resources/pi_calculator_claude resources/pi_calculator_claude.cpp\n",
    "!resources/pi_calculator_claude"
   ]
  }
 ],
 "metadata": {
  "kernelspec": {
   "display_name": "Python 3 (ipykernel)",
   "language": "python",
   "name": "python3"
  },
  "language_info": {
   "codemirror_mode": {
    "name": "ipython",
    "version": 3
   },
   "file_extension": ".py",
   "mimetype": "text/x-python",
   "name": "python",
   "nbconvert_exporter": "python",
   "pygments_lexer": "ipython3",
   "version": "3.11.13"
  }
 },
 "nbformat": 4,
 "nbformat_minor": 5
}
